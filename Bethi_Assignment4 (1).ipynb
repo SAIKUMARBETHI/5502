{
  "nbformat": 4,
  "nbformat_minor": 0,
  "metadata": {
    "colab": {
      "name": "Bethi_Assignment4",
      "provenance": [],
      "collapsed_sections": []
    },
    "kernelspec": {
      "name": "python3",
      "display_name": "Python 3"
    },
    "language_info": {
      "name": "python"
    }
  },
  "cells": [
    {
      "cell_type": "code",
      "metadata": {
        "id": "skQGejNu0CKW"
      },
      "source": [
        "import matplotlib.pyplot as plt\n",
        "import pandas as pd\n",
        "import numpy as np\n",
        "import seaborn as sns"
      ],
      "execution_count": 37,
      "outputs": []
    },
    {
      "cell_type": "code",
      "metadata": {
        "colab": {
          "base_uri": "https://localhost:8080/",
          "height": 1000
        },
        "id": "lYIOeWSA28uZ",
        "outputId": "fc814497-2080-4bce-bb08-aed42a0362d2"
      },
      "source": [
        "df=pd.read_csv('multipleChoiceResponses.csv')\n",
        "df"
      ],
      "execution_count": 38,
      "outputs": [
        {
          "output_type": "stream",
          "name": "stderr",
          "text": [
            "/usr/local/lib/python3.7/dist-packages/IPython/core/interactiveshell.py:2718: DtypeWarning: Columns (0,2,8,10,21,23,24,25,26,27,28,44,56,64,83,85,87,107,109,123,125,150,157,172,174,194,210,218,219,223,246,249,262,264,276,277,278,279,280,281,282,283,284,285,286,287,288,289,290,304,306,325,326,329,341,368,371,384,385,389,390,391,393,394) have mixed types.Specify dtype option on import or set low_memory=False.\n",
            "  interactivity=interactivity, compiler=compiler, result=result)\n"
          ]
        },
        {
          "output_type": "execute_result",
          "data": {
            "text/html": [
              "<div>\n",
              "<style scoped>\n",
              "    .dataframe tbody tr th:only-of-type {\n",
              "        vertical-align: middle;\n",
              "    }\n",
              "\n",
              "    .dataframe tbody tr th {\n",
              "        vertical-align: top;\n",
              "    }\n",
              "\n",
              "    .dataframe thead th {\n",
              "        text-align: right;\n",
              "    }\n",
              "</style>\n",
              "<table border=\"1\" class=\"dataframe\">\n",
              "  <thead>\n",
              "    <tr style=\"text-align: right;\">\n",
              "      <th></th>\n",
              "      <th>Time from Start to Finish (seconds)</th>\n",
              "      <th>Q1</th>\n",
              "      <th>Q1_OTHER_TEXT</th>\n",
              "      <th>Q2</th>\n",
              "      <th>Q3</th>\n",
              "      <th>Q4</th>\n",
              "      <th>Q5</th>\n",
              "      <th>Q6</th>\n",
              "      <th>Q6_OTHER_TEXT</th>\n",
              "      <th>Q7</th>\n",
              "      <th>Q7_OTHER_TEXT</th>\n",
              "      <th>Q8</th>\n",
              "      <th>Q9</th>\n",
              "      <th>Q10</th>\n",
              "      <th>Q11_Part_1</th>\n",
              "      <th>Q11_Part_2</th>\n",
              "      <th>Q11_Part_3</th>\n",
              "      <th>Q11_Part_4</th>\n",
              "      <th>Q11_Part_5</th>\n",
              "      <th>Q11_Part_6</th>\n",
              "      <th>Q11_Part_7</th>\n",
              "      <th>Q11_OTHER_TEXT</th>\n",
              "      <th>Q12_MULTIPLE_CHOICE</th>\n",
              "      <th>Q12_Part_1_TEXT</th>\n",
              "      <th>Q12_Part_2_TEXT</th>\n",
              "      <th>Q12_Part_3_TEXT</th>\n",
              "      <th>Q12_Part_4_TEXT</th>\n",
              "      <th>Q12_Part_5_TEXT</th>\n",
              "      <th>Q12_OTHER_TEXT</th>\n",
              "      <th>Q13_Part_1</th>\n",
              "      <th>Q13_Part_2</th>\n",
              "      <th>Q13_Part_3</th>\n",
              "      <th>Q13_Part_4</th>\n",
              "      <th>Q13_Part_5</th>\n",
              "      <th>Q13_Part_6</th>\n",
              "      <th>Q13_Part_7</th>\n",
              "      <th>Q13_Part_8</th>\n",
              "      <th>Q13_Part_9</th>\n",
              "      <th>Q13_Part_10</th>\n",
              "      <th>Q13_Part_11</th>\n",
              "      <th>...</th>\n",
              "      <th>Q46</th>\n",
              "      <th>Q47_Part_1</th>\n",
              "      <th>Q47_Part_2</th>\n",
              "      <th>Q47_Part_3</th>\n",
              "      <th>Q47_Part_4</th>\n",
              "      <th>Q47_Part_5</th>\n",
              "      <th>Q47_Part_6</th>\n",
              "      <th>Q47_Part_7</th>\n",
              "      <th>Q47_Part_8</th>\n",
              "      <th>Q47_Part_9</th>\n",
              "      <th>Q47_Part_10</th>\n",
              "      <th>Q47_Part_11</th>\n",
              "      <th>Q47_Part_12</th>\n",
              "      <th>Q47_Part_13</th>\n",
              "      <th>Q47_Part_14</th>\n",
              "      <th>Q47_Part_15</th>\n",
              "      <th>Q47_Part_16</th>\n",
              "      <th>Q48</th>\n",
              "      <th>Q49_Part_1</th>\n",
              "      <th>Q49_Part_2</th>\n",
              "      <th>Q49_Part_3</th>\n",
              "      <th>Q49_Part_4</th>\n",
              "      <th>Q49_Part_5</th>\n",
              "      <th>Q49_Part_6</th>\n",
              "      <th>Q49_Part_7</th>\n",
              "      <th>Q49_Part_8</th>\n",
              "      <th>Q49_Part_9</th>\n",
              "      <th>Q49_Part_10</th>\n",
              "      <th>Q49_Part_11</th>\n",
              "      <th>Q49_Part_12</th>\n",
              "      <th>Q49_OTHER_TEXT</th>\n",
              "      <th>Q50_Part_1</th>\n",
              "      <th>Q50_Part_2</th>\n",
              "      <th>Q50_Part_3</th>\n",
              "      <th>Q50_Part_4</th>\n",
              "      <th>Q50_Part_5</th>\n",
              "      <th>Q50_Part_6</th>\n",
              "      <th>Q50_Part_7</th>\n",
              "      <th>Q50_Part_8</th>\n",
              "      <th>Q50_OTHER_TEXT</th>\n",
              "    </tr>\n",
              "  </thead>\n",
              "  <tbody>\n",
              "    <tr>\n",
              "      <th>0</th>\n",
              "      <td>Duration (in seconds)</td>\n",
              "      <td>What is your gender? - Selected Choice</td>\n",
              "      <td>What is your gender? - Prefer to self-describe...</td>\n",
              "      <td>What is your age (# years)?</td>\n",
              "      <td>In which country do you currently reside?</td>\n",
              "      <td>What is the highest level of formal education ...</td>\n",
              "      <td>Which best describes your undergraduate major?...</td>\n",
              "      <td>Select the title most similar to your current ...</td>\n",
              "      <td>Select the title most similar to your current ...</td>\n",
              "      <td>In what industry is your current employer/cont...</td>\n",
              "      <td>In what industry is your current employer/cont...</td>\n",
              "      <td>How many years of experience do you have in yo...</td>\n",
              "      <td>What is your current yearly compensation (appr...</td>\n",
              "      <td>Does your current employer incorporate machine...</td>\n",
              "      <td>Select any activities that make up an importan...</td>\n",
              "      <td>Select any activities that make up an importan...</td>\n",
              "      <td>Select any activities that make up an importan...</td>\n",
              "      <td>Select any activities that make up an importan...</td>\n",
              "      <td>Select any activities that make up an importan...</td>\n",
              "      <td>Select any activities that make up an importan...</td>\n",
              "      <td>Select any activities that make up an importan...</td>\n",
              "      <td>Select any activities that make up an importan...</td>\n",
              "      <td>What is the primary tool that you use at work ...</td>\n",
              "      <td>What is the primary tool that you use at work ...</td>\n",
              "      <td>What is the primary tool that you use at work ...</td>\n",
              "      <td>What is the primary tool that you use at work ...</td>\n",
              "      <td>What is the primary tool that you use at work ...</td>\n",
              "      <td>What is the primary tool that you use at work ...</td>\n",
              "      <td>What is the primary tool that you use at work ...</td>\n",
              "      <td>Which of the following integrated development ...</td>\n",
              "      <td>Which of the following integrated development ...</td>\n",
              "      <td>Which of the following integrated development ...</td>\n",
              "      <td>Which of the following integrated development ...</td>\n",
              "      <td>Which of the following integrated development ...</td>\n",
              "      <td>Which of the following integrated development ...</td>\n",
              "      <td>Which of the following integrated development ...</td>\n",
              "      <td>Which of the following integrated development ...</td>\n",
              "      <td>Which of the following integrated development ...</td>\n",
              "      <td>Which of the following integrated development ...</td>\n",
              "      <td>Which of the following integrated development ...</td>\n",
              "      <td>...</td>\n",
              "      <td>Approximately what percent of your data projec...</td>\n",
              "      <td>What methods do you prefer for explaining and/...</td>\n",
              "      <td>What methods do you prefer for explaining and/...</td>\n",
              "      <td>What methods do you prefer for explaining and/...</td>\n",
              "      <td>What methods do you prefer for explaining and/...</td>\n",
              "      <td>What methods do you prefer for explaining and/...</td>\n",
              "      <td>What methods do you prefer for explaining and/...</td>\n",
              "      <td>What methods do you prefer for explaining and/...</td>\n",
              "      <td>What methods do you prefer for explaining and/...</td>\n",
              "      <td>What methods do you prefer for explaining and/...</td>\n",
              "      <td>What methods do you prefer for explaining and/...</td>\n",
              "      <td>What methods do you prefer for explaining and/...</td>\n",
              "      <td>What methods do you prefer for explaining and/...</td>\n",
              "      <td>What methods do you prefer for explaining and/...</td>\n",
              "      <td>What methods do you prefer for explaining and/...</td>\n",
              "      <td>What methods do you prefer for explaining and/...</td>\n",
              "      <td>What methods do you prefer for explaining and/...</td>\n",
              "      <td>Do you consider ML models to be \"black boxes\" ...</td>\n",
              "      <td>What tools and methods do you use to make your...</td>\n",
              "      <td>What tools and methods do you use to make your...</td>\n",
              "      <td>What tools and methods do you use to make your...</td>\n",
              "      <td>What tools and methods do you use to make your...</td>\n",
              "      <td>What tools and methods do you use to make your...</td>\n",
              "      <td>What tools and methods do you use to make your...</td>\n",
              "      <td>What tools and methods do you use to make your...</td>\n",
              "      <td>What tools and methods do you use to make your...</td>\n",
              "      <td>What tools and methods do you use to make your...</td>\n",
              "      <td>What tools and methods do you use to make your...</td>\n",
              "      <td>What tools and methods do you use to make your...</td>\n",
              "      <td>What tools and methods do you use to make your...</td>\n",
              "      <td>What tools and methods do you use to make your...</td>\n",
              "      <td>What barriers prevent you from making your wor...</td>\n",
              "      <td>What barriers prevent you from making your wor...</td>\n",
              "      <td>What barriers prevent you from making your wor...</td>\n",
              "      <td>What barriers prevent you from making your wor...</td>\n",
              "      <td>What barriers prevent you from making your wor...</td>\n",
              "      <td>What barriers prevent you from making your wor...</td>\n",
              "      <td>What barriers prevent you from making your wor...</td>\n",
              "      <td>What barriers prevent you from making your wor...</td>\n",
              "      <td>What barriers prevent you from making your wor...</td>\n",
              "    </tr>\n",
              "    <tr>\n",
              "      <th>1</th>\n",
              "      <td>710</td>\n",
              "      <td>Female</td>\n",
              "      <td>-1</td>\n",
              "      <td>45-49</td>\n",
              "      <td>United States of America</td>\n",
              "      <td>Doctoral degree</td>\n",
              "      <td>Other</td>\n",
              "      <td>Consultant</td>\n",
              "      <td>-1</td>\n",
              "      <td>Other</td>\n",
              "      <td>0</td>\n",
              "      <td>NaN</td>\n",
              "      <td>NaN</td>\n",
              "      <td>I do not know</td>\n",
              "      <td>Analyze and understand data to influence produ...</td>\n",
              "      <td>Build and/or run a machine learning service th...</td>\n",
              "      <td>Build and/or run the data infrastructure that ...</td>\n",
              "      <td>NaN</td>\n",
              "      <td>Do research that advances the state of the art...</td>\n",
              "      <td>NaN</td>\n",
              "      <td>NaN</td>\n",
              "      <td>-1</td>\n",
              "      <td>Cloud-based data software &amp; APIs (AWS, GCP, Az...</td>\n",
              "      <td>-1</td>\n",
              "      <td>-1</td>\n",
              "      <td>-1</td>\n",
              "      <td>-1</td>\n",
              "      <td>0</td>\n",
              "      <td>-1</td>\n",
              "      <td>Jupyter/IPython</td>\n",
              "      <td>NaN</td>\n",
              "      <td>NaN</td>\n",
              "      <td>NaN</td>\n",
              "      <td>NaN</td>\n",
              "      <td>NaN</td>\n",
              "      <td>NaN</td>\n",
              "      <td>NaN</td>\n",
              "      <td>NaN</td>\n",
              "      <td>NaN</td>\n",
              "      <td>NaN</td>\n",
              "      <td>...</td>\n",
              "      <td>NaN</td>\n",
              "      <td>NaN</td>\n",
              "      <td>NaN</td>\n",
              "      <td>NaN</td>\n",
              "      <td>NaN</td>\n",
              "      <td>NaN</td>\n",
              "      <td>NaN</td>\n",
              "      <td>NaN</td>\n",
              "      <td>NaN</td>\n",
              "      <td>NaN</td>\n",
              "      <td>NaN</td>\n",
              "      <td>NaN</td>\n",
              "      <td>NaN</td>\n",
              "      <td>NaN</td>\n",
              "      <td>NaN</td>\n",
              "      <td>NaN</td>\n",
              "      <td>NaN</td>\n",
              "      <td>NaN</td>\n",
              "      <td>NaN</td>\n",
              "      <td>NaN</td>\n",
              "      <td>NaN</td>\n",
              "      <td>NaN</td>\n",
              "      <td>NaN</td>\n",
              "      <td>NaN</td>\n",
              "      <td>NaN</td>\n",
              "      <td>NaN</td>\n",
              "      <td>NaN</td>\n",
              "      <td>NaN</td>\n",
              "      <td>NaN</td>\n",
              "      <td>NaN</td>\n",
              "      <td>-1</td>\n",
              "      <td>NaN</td>\n",
              "      <td>NaN</td>\n",
              "      <td>NaN</td>\n",
              "      <td>NaN</td>\n",
              "      <td>NaN</td>\n",
              "      <td>NaN</td>\n",
              "      <td>NaN</td>\n",
              "      <td>NaN</td>\n",
              "      <td>-1</td>\n",
              "    </tr>\n",
              "    <tr>\n",
              "      <th>2</th>\n",
              "      <td>434</td>\n",
              "      <td>Male</td>\n",
              "      <td>-1</td>\n",
              "      <td>30-34</td>\n",
              "      <td>Indonesia</td>\n",
              "      <td>Bachelor’s degree</td>\n",
              "      <td>Engineering (non-computer focused)</td>\n",
              "      <td>Other</td>\n",
              "      <td>0</td>\n",
              "      <td>Manufacturing/Fabrication</td>\n",
              "      <td>-1</td>\n",
              "      <td>5-10</td>\n",
              "      <td>10-20,000</td>\n",
              "      <td>No (we do not use ML methods)</td>\n",
              "      <td>NaN</td>\n",
              "      <td>NaN</td>\n",
              "      <td>NaN</td>\n",
              "      <td>NaN</td>\n",
              "      <td>NaN</td>\n",
              "      <td>None of these activities are an important part...</td>\n",
              "      <td>NaN</td>\n",
              "      <td>-1</td>\n",
              "      <td>Basic statistical software (Microsoft Excel, G...</td>\n",
              "      <td>1</td>\n",
              "      <td>-1</td>\n",
              "      <td>-1</td>\n",
              "      <td>-1</td>\n",
              "      <td>-1</td>\n",
              "      <td>-1</td>\n",
              "      <td>NaN</td>\n",
              "      <td>NaN</td>\n",
              "      <td>NaN</td>\n",
              "      <td>NaN</td>\n",
              "      <td>NaN</td>\n",
              "      <td>NaN</td>\n",
              "      <td>NaN</td>\n",
              "      <td>NaN</td>\n",
              "      <td>NaN</td>\n",
              "      <td>NaN</td>\n",
              "      <td>NaN</td>\n",
              "      <td>...</td>\n",
              "      <td>NaN</td>\n",
              "      <td>NaN</td>\n",
              "      <td>NaN</td>\n",
              "      <td>NaN</td>\n",
              "      <td>NaN</td>\n",
              "      <td>NaN</td>\n",
              "      <td>NaN</td>\n",
              "      <td>NaN</td>\n",
              "      <td>NaN</td>\n",
              "      <td>NaN</td>\n",
              "      <td>NaN</td>\n",
              "      <td>NaN</td>\n",
              "      <td>NaN</td>\n",
              "      <td>NaN</td>\n",
              "      <td>NaN</td>\n",
              "      <td>NaN</td>\n",
              "      <td>NaN</td>\n",
              "      <td>NaN</td>\n",
              "      <td>NaN</td>\n",
              "      <td>NaN</td>\n",
              "      <td>NaN</td>\n",
              "      <td>NaN</td>\n",
              "      <td>NaN</td>\n",
              "      <td>NaN</td>\n",
              "      <td>NaN</td>\n",
              "      <td>NaN</td>\n",
              "      <td>NaN</td>\n",
              "      <td>NaN</td>\n",
              "      <td>NaN</td>\n",
              "      <td>NaN</td>\n",
              "      <td>-1</td>\n",
              "      <td>NaN</td>\n",
              "      <td>NaN</td>\n",
              "      <td>NaN</td>\n",
              "      <td>NaN</td>\n",
              "      <td>NaN</td>\n",
              "      <td>NaN</td>\n",
              "      <td>NaN</td>\n",
              "      <td>NaN</td>\n",
              "      <td>-1</td>\n",
              "    </tr>\n",
              "    <tr>\n",
              "      <th>3</th>\n",
              "      <td>718</td>\n",
              "      <td>Female</td>\n",
              "      <td>-1</td>\n",
              "      <td>30-34</td>\n",
              "      <td>United States of America</td>\n",
              "      <td>Master’s degree</td>\n",
              "      <td>Computer science (software engineering, etc.)</td>\n",
              "      <td>Data Scientist</td>\n",
              "      <td>-1</td>\n",
              "      <td>I am a student</td>\n",
              "      <td>-1</td>\n",
              "      <td>0-1</td>\n",
              "      <td>0-10,000</td>\n",
              "      <td>I do not know</td>\n",
              "      <td>Analyze and understand data to influence produ...</td>\n",
              "      <td>NaN</td>\n",
              "      <td>NaN</td>\n",
              "      <td>NaN</td>\n",
              "      <td>NaN</td>\n",
              "      <td>NaN</td>\n",
              "      <td>NaN</td>\n",
              "      <td>-1</td>\n",
              "      <td>Local or hosted development environments (RStu...</td>\n",
              "      <td>-1</td>\n",
              "      <td>-1</td>\n",
              "      <td>-1</td>\n",
              "      <td>0</td>\n",
              "      <td>-1</td>\n",
              "      <td>-1</td>\n",
              "      <td>NaN</td>\n",
              "      <td>NaN</td>\n",
              "      <td>NaN</td>\n",
              "      <td>NaN</td>\n",
              "      <td>NaN</td>\n",
              "      <td>NaN</td>\n",
              "      <td>MATLAB</td>\n",
              "      <td>NaN</td>\n",
              "      <td>NaN</td>\n",
              "      <td>NaN</td>\n",
              "      <td>NaN</td>\n",
              "      <td>...</td>\n",
              "      <td>10-20</td>\n",
              "      <td>NaN</td>\n",
              "      <td>Examine feature correlations</td>\n",
              "      <td>Examine feature importances</td>\n",
              "      <td>NaN</td>\n",
              "      <td>NaN</td>\n",
              "      <td>NaN</td>\n",
              "      <td>NaN</td>\n",
              "      <td>Plot predicted vs. actual results</td>\n",
              "      <td>NaN</td>\n",
              "      <td>NaN</td>\n",
              "      <td>NaN</td>\n",
              "      <td>NaN</td>\n",
              "      <td>NaN</td>\n",
              "      <td>NaN</td>\n",
              "      <td>NaN</td>\n",
              "      <td>NaN</td>\n",
              "      <td>I am confident that I can explain the outputs ...</td>\n",
              "      <td>NaN</td>\n",
              "      <td>NaN</td>\n",
              "      <td>NaN</td>\n",
              "      <td>NaN</td>\n",
              "      <td>NaN</td>\n",
              "      <td>NaN</td>\n",
              "      <td>Make sure the code is human-readable</td>\n",
              "      <td>Define all random seeds</td>\n",
              "      <td>NaN</td>\n",
              "      <td>Include a text file describing all dependencies</td>\n",
              "      <td>NaN</td>\n",
              "      <td>NaN</td>\n",
              "      <td>-1</td>\n",
              "      <td>NaN</td>\n",
              "      <td>Too time-consuming</td>\n",
              "      <td>NaN</td>\n",
              "      <td>NaN</td>\n",
              "      <td>NaN</td>\n",
              "      <td>NaN</td>\n",
              "      <td>NaN</td>\n",
              "      <td>NaN</td>\n",
              "      <td>-1</td>\n",
              "    </tr>\n",
              "    <tr>\n",
              "      <th>4</th>\n",
              "      <td>621</td>\n",
              "      <td>Male</td>\n",
              "      <td>-1</td>\n",
              "      <td>35-39</td>\n",
              "      <td>United States of America</td>\n",
              "      <td>Master’s degree</td>\n",
              "      <td>Social sciences (anthropology, psychology, soc...</td>\n",
              "      <td>Not employed</td>\n",
              "      <td>-1</td>\n",
              "      <td>NaN</td>\n",
              "      <td>-1</td>\n",
              "      <td>NaN</td>\n",
              "      <td>NaN</td>\n",
              "      <td>NaN</td>\n",
              "      <td>NaN</td>\n",
              "      <td>NaN</td>\n",
              "      <td>NaN</td>\n",
              "      <td>NaN</td>\n",
              "      <td>NaN</td>\n",
              "      <td>NaN</td>\n",
              "      <td>NaN</td>\n",
              "      <td>-1</td>\n",
              "      <td>Local or hosted development environments (RStu...</td>\n",
              "      <td>-1</td>\n",
              "      <td>-1</td>\n",
              "      <td>-1</td>\n",
              "      <td>1</td>\n",
              "      <td>-1</td>\n",
              "      <td>-1</td>\n",
              "      <td>Jupyter/IPython</td>\n",
              "      <td>RStudio</td>\n",
              "      <td>PyCharm</td>\n",
              "      <td>NaN</td>\n",
              "      <td>NaN</td>\n",
              "      <td>NaN</td>\n",
              "      <td>NaN</td>\n",
              "      <td>Visual Studio</td>\n",
              "      <td>NaN</td>\n",
              "      <td>NaN</td>\n",
              "      <td>Vim</td>\n",
              "      <td>...</td>\n",
              "      <td>20-30</td>\n",
              "      <td>NaN</td>\n",
              "      <td>Examine feature correlations</td>\n",
              "      <td>Examine feature importances</td>\n",
              "      <td>Plot decision boundaries</td>\n",
              "      <td>NaN</td>\n",
              "      <td>NaN</td>\n",
              "      <td>NaN</td>\n",
              "      <td>Plot predicted vs. actual results</td>\n",
              "      <td>NaN</td>\n",
              "      <td>Sensitivity analysis/perturbation importance</td>\n",
              "      <td>NaN</td>\n",
              "      <td>NaN</td>\n",
              "      <td>NaN</td>\n",
              "      <td>NaN</td>\n",
              "      <td>NaN</td>\n",
              "      <td>NaN</td>\n",
              "      <td>Yes, most ML models are \"black boxes\"</td>\n",
              "      <td>NaN</td>\n",
              "      <td>NaN</td>\n",
              "      <td>Share data, code, and environment using a host...</td>\n",
              "      <td>NaN</td>\n",
              "      <td>NaN</td>\n",
              "      <td>NaN</td>\n",
              "      <td>Make sure the code is human-readable</td>\n",
              "      <td>NaN</td>\n",
              "      <td>Define relative rather than absolute file paths</td>\n",
              "      <td>NaN</td>\n",
              "      <td>NaN</td>\n",
              "      <td>NaN</td>\n",
              "      <td>-1</td>\n",
              "      <td>NaN</td>\n",
              "      <td>NaN</td>\n",
              "      <td>Requires too much technical knowledge</td>\n",
              "      <td>NaN</td>\n",
              "      <td>Not enough incentives to share my work</td>\n",
              "      <td>NaN</td>\n",
              "      <td>NaN</td>\n",
              "      <td>NaN</td>\n",
              "      <td>-1</td>\n",
              "    </tr>\n",
              "    <tr>\n",
              "      <th>...</th>\n",
              "      <td>...</td>\n",
              "      <td>...</td>\n",
              "      <td>...</td>\n",
              "      <td>...</td>\n",
              "      <td>...</td>\n",
              "      <td>...</td>\n",
              "      <td>...</td>\n",
              "      <td>...</td>\n",
              "      <td>...</td>\n",
              "      <td>...</td>\n",
              "      <td>...</td>\n",
              "      <td>...</td>\n",
              "      <td>...</td>\n",
              "      <td>...</td>\n",
              "      <td>...</td>\n",
              "      <td>...</td>\n",
              "      <td>...</td>\n",
              "      <td>...</td>\n",
              "      <td>...</td>\n",
              "      <td>...</td>\n",
              "      <td>...</td>\n",
              "      <td>...</td>\n",
              "      <td>...</td>\n",
              "      <td>...</td>\n",
              "      <td>...</td>\n",
              "      <td>...</td>\n",
              "      <td>...</td>\n",
              "      <td>...</td>\n",
              "      <td>...</td>\n",
              "      <td>...</td>\n",
              "      <td>...</td>\n",
              "      <td>...</td>\n",
              "      <td>...</td>\n",
              "      <td>...</td>\n",
              "      <td>...</td>\n",
              "      <td>...</td>\n",
              "      <td>...</td>\n",
              "      <td>...</td>\n",
              "      <td>...</td>\n",
              "      <td>...</td>\n",
              "      <td>...</td>\n",
              "      <td>...</td>\n",
              "      <td>...</td>\n",
              "      <td>...</td>\n",
              "      <td>...</td>\n",
              "      <td>...</td>\n",
              "      <td>...</td>\n",
              "      <td>...</td>\n",
              "      <td>...</td>\n",
              "      <td>...</td>\n",
              "      <td>...</td>\n",
              "      <td>...</td>\n",
              "      <td>...</td>\n",
              "      <td>...</td>\n",
              "      <td>...</td>\n",
              "      <td>...</td>\n",
              "      <td>...</td>\n",
              "      <td>...</td>\n",
              "      <td>...</td>\n",
              "      <td>...</td>\n",
              "      <td>...</td>\n",
              "      <td>...</td>\n",
              "      <td>...</td>\n",
              "      <td>...</td>\n",
              "      <td>...</td>\n",
              "      <td>...</td>\n",
              "      <td>...</td>\n",
              "      <td>...</td>\n",
              "      <td>...</td>\n",
              "      <td>...</td>\n",
              "      <td>...</td>\n",
              "      <td>...</td>\n",
              "      <td>...</td>\n",
              "      <td>...</td>\n",
              "      <td>...</td>\n",
              "      <td>...</td>\n",
              "      <td>...</td>\n",
              "      <td>...</td>\n",
              "      <td>...</td>\n",
              "      <td>...</td>\n",
              "      <td>...</td>\n",
              "    </tr>\n",
              "    <tr>\n",
              "      <th>23855</th>\n",
              "      <td>575</td>\n",
              "      <td>Male</td>\n",
              "      <td>-1</td>\n",
              "      <td>45-49</td>\n",
              "      <td>France</td>\n",
              "      <td>Doctoral degree</td>\n",
              "      <td>Computer science (software engineering, etc.)</td>\n",
              "      <td>Chief Officer</td>\n",
              "      <td>-1</td>\n",
              "      <td>Computers/Technology</td>\n",
              "      <td>-1</td>\n",
              "      <td>5-10</td>\n",
              "      <td>250-300,000</td>\n",
              "      <td>We recently started using ML methods (i.e., mo...</td>\n",
              "      <td>NaN</td>\n",
              "      <td>Build and/or run a machine learning service th...</td>\n",
              "      <td>NaN</td>\n",
              "      <td>Build prototypes to explore applying machine l...</td>\n",
              "      <td>Do research that advances the state of the art...</td>\n",
              "      <td>NaN</td>\n",
              "      <td>NaN</td>\n",
              "      <td>-1</td>\n",
              "      <td>Local or hosted development environments (RStu...</td>\n",
              "      <td>-1</td>\n",
              "      <td>-1</td>\n",
              "      <td>-1</td>\n",
              "      <td>21</td>\n",
              "      <td>-1</td>\n",
              "      <td>-1</td>\n",
              "      <td>Jupyter/IPython</td>\n",
              "      <td>RStudio</td>\n",
              "      <td>PyCharm</td>\n",
              "      <td>NaN</td>\n",
              "      <td>NaN</td>\n",
              "      <td>NaN</td>\n",
              "      <td>MATLAB</td>\n",
              "      <td>NaN</td>\n",
              "      <td>NaN</td>\n",
              "      <td>Sublime Text</td>\n",
              "      <td>NaN</td>\n",
              "      <td>...</td>\n",
              "      <td>NaN</td>\n",
              "      <td>NaN</td>\n",
              "      <td>NaN</td>\n",
              "      <td>NaN</td>\n",
              "      <td>NaN</td>\n",
              "      <td>NaN</td>\n",
              "      <td>NaN</td>\n",
              "      <td>NaN</td>\n",
              "      <td>NaN</td>\n",
              "      <td>NaN</td>\n",
              "      <td>NaN</td>\n",
              "      <td>NaN</td>\n",
              "      <td>NaN</td>\n",
              "      <td>NaN</td>\n",
              "      <td>NaN</td>\n",
              "      <td>NaN</td>\n",
              "      <td>NaN</td>\n",
              "      <td>NaN</td>\n",
              "      <td>NaN</td>\n",
              "      <td>NaN</td>\n",
              "      <td>NaN</td>\n",
              "      <td>NaN</td>\n",
              "      <td>NaN</td>\n",
              "      <td>NaN</td>\n",
              "      <td>NaN</td>\n",
              "      <td>NaN</td>\n",
              "      <td>NaN</td>\n",
              "      <td>NaN</td>\n",
              "      <td>NaN</td>\n",
              "      <td>NaN</td>\n",
              "      <td>-1</td>\n",
              "      <td>NaN</td>\n",
              "      <td>NaN</td>\n",
              "      <td>NaN</td>\n",
              "      <td>NaN</td>\n",
              "      <td>NaN</td>\n",
              "      <td>NaN</td>\n",
              "      <td>NaN</td>\n",
              "      <td>NaN</td>\n",
              "      <td>-1</td>\n",
              "    </tr>\n",
              "    <tr>\n",
              "      <th>23856</th>\n",
              "      <td>131</td>\n",
              "      <td>Female</td>\n",
              "      <td>-1</td>\n",
              "      <td>25-29</td>\n",
              "      <td>Turkey</td>\n",
              "      <td>Master’s degree</td>\n",
              "      <td>Engineering (non-computer focused)</td>\n",
              "      <td>NaN</td>\n",
              "      <td>-1</td>\n",
              "      <td>NaN</td>\n",
              "      <td>-1</td>\n",
              "      <td>NaN</td>\n",
              "      <td>NaN</td>\n",
              "      <td>NaN</td>\n",
              "      <td>NaN</td>\n",
              "      <td>NaN</td>\n",
              "      <td>NaN</td>\n",
              "      <td>NaN</td>\n",
              "      <td>NaN</td>\n",
              "      <td>NaN</td>\n",
              "      <td>NaN</td>\n",
              "      <td>-1</td>\n",
              "      <td>NaN</td>\n",
              "      <td>-1</td>\n",
              "      <td>-1</td>\n",
              "      <td>-1</td>\n",
              "      <td>-1</td>\n",
              "      <td>-1</td>\n",
              "      <td>-1</td>\n",
              "      <td>NaN</td>\n",
              "      <td>NaN</td>\n",
              "      <td>NaN</td>\n",
              "      <td>NaN</td>\n",
              "      <td>NaN</td>\n",
              "      <td>NaN</td>\n",
              "      <td>NaN</td>\n",
              "      <td>NaN</td>\n",
              "      <td>NaN</td>\n",
              "      <td>NaN</td>\n",
              "      <td>NaN</td>\n",
              "      <td>...</td>\n",
              "      <td>NaN</td>\n",
              "      <td>NaN</td>\n",
              "      <td>NaN</td>\n",
              "      <td>NaN</td>\n",
              "      <td>NaN</td>\n",
              "      <td>NaN</td>\n",
              "      <td>NaN</td>\n",
              "      <td>NaN</td>\n",
              "      <td>NaN</td>\n",
              "      <td>NaN</td>\n",
              "      <td>NaN</td>\n",
              "      <td>NaN</td>\n",
              "      <td>NaN</td>\n",
              "      <td>NaN</td>\n",
              "      <td>NaN</td>\n",
              "      <td>NaN</td>\n",
              "      <td>NaN</td>\n",
              "      <td>NaN</td>\n",
              "      <td>NaN</td>\n",
              "      <td>NaN</td>\n",
              "      <td>NaN</td>\n",
              "      <td>NaN</td>\n",
              "      <td>NaN</td>\n",
              "      <td>NaN</td>\n",
              "      <td>NaN</td>\n",
              "      <td>NaN</td>\n",
              "      <td>NaN</td>\n",
              "      <td>NaN</td>\n",
              "      <td>NaN</td>\n",
              "      <td>NaN</td>\n",
              "      <td>-1</td>\n",
              "      <td>NaN</td>\n",
              "      <td>NaN</td>\n",
              "      <td>NaN</td>\n",
              "      <td>NaN</td>\n",
              "      <td>NaN</td>\n",
              "      <td>NaN</td>\n",
              "      <td>NaN</td>\n",
              "      <td>NaN</td>\n",
              "      <td>-1</td>\n",
              "    </tr>\n",
              "    <tr>\n",
              "      <th>23857</th>\n",
              "      <td>370</td>\n",
              "      <td>Male</td>\n",
              "      <td>-1</td>\n",
              "      <td>22-24</td>\n",
              "      <td>Turkey</td>\n",
              "      <td>Master’s degree</td>\n",
              "      <td>Computer science (software engineering, etc.)</td>\n",
              "      <td>Software Engineer</td>\n",
              "      <td>-1</td>\n",
              "      <td>Computers/Technology</td>\n",
              "      <td>-1</td>\n",
              "      <td>0-1</td>\n",
              "      <td>10-20,000</td>\n",
              "      <td>We recently started using ML methods (i.e., mo...</td>\n",
              "      <td>Analyze and understand data to influence produ...</td>\n",
              "      <td>Build and/or run a machine learning service th...</td>\n",
              "      <td>Build and/or run the data infrastructure that ...</td>\n",
              "      <td>Build prototypes to explore applying machine l...</td>\n",
              "      <td>NaN</td>\n",
              "      <td>NaN</td>\n",
              "      <td>NaN</td>\n",
              "      <td>-1</td>\n",
              "      <td>Local or hosted development environments (RStu...</td>\n",
              "      <td>-1</td>\n",
              "      <td>-1</td>\n",
              "      <td>-1</td>\n",
              "      <td>10</td>\n",
              "      <td>-1</td>\n",
              "      <td>-1</td>\n",
              "      <td>NaN</td>\n",
              "      <td>NaN</td>\n",
              "      <td>NaN</td>\n",
              "      <td>NaN</td>\n",
              "      <td>NaN</td>\n",
              "      <td>NaN</td>\n",
              "      <td>NaN</td>\n",
              "      <td>NaN</td>\n",
              "      <td>NaN</td>\n",
              "      <td>NaN</td>\n",
              "      <td>NaN</td>\n",
              "      <td>...</td>\n",
              "      <td>NaN</td>\n",
              "      <td>NaN</td>\n",
              "      <td>NaN</td>\n",
              "      <td>NaN</td>\n",
              "      <td>NaN</td>\n",
              "      <td>NaN</td>\n",
              "      <td>NaN</td>\n",
              "      <td>NaN</td>\n",
              "      <td>NaN</td>\n",
              "      <td>NaN</td>\n",
              "      <td>NaN</td>\n",
              "      <td>NaN</td>\n",
              "      <td>NaN</td>\n",
              "      <td>NaN</td>\n",
              "      <td>NaN</td>\n",
              "      <td>NaN</td>\n",
              "      <td>NaN</td>\n",
              "      <td>NaN</td>\n",
              "      <td>NaN</td>\n",
              "      <td>NaN</td>\n",
              "      <td>NaN</td>\n",
              "      <td>NaN</td>\n",
              "      <td>NaN</td>\n",
              "      <td>NaN</td>\n",
              "      <td>NaN</td>\n",
              "      <td>NaN</td>\n",
              "      <td>NaN</td>\n",
              "      <td>NaN</td>\n",
              "      <td>NaN</td>\n",
              "      <td>NaN</td>\n",
              "      <td>-1</td>\n",
              "      <td>NaN</td>\n",
              "      <td>NaN</td>\n",
              "      <td>NaN</td>\n",
              "      <td>NaN</td>\n",
              "      <td>NaN</td>\n",
              "      <td>NaN</td>\n",
              "      <td>NaN</td>\n",
              "      <td>NaN</td>\n",
              "      <td>-1</td>\n",
              "    </tr>\n",
              "    <tr>\n",
              "      <th>23858</th>\n",
              "      <td>36</td>\n",
              "      <td>Male</td>\n",
              "      <td>-1</td>\n",
              "      <td>25-29</td>\n",
              "      <td>United Kingdom of Great Britain and Northern I...</td>\n",
              "      <td>NaN</td>\n",
              "      <td>NaN</td>\n",
              "      <td>NaN</td>\n",
              "      <td>-1</td>\n",
              "      <td>NaN</td>\n",
              "      <td>-1</td>\n",
              "      <td>NaN</td>\n",
              "      <td>NaN</td>\n",
              "      <td>NaN</td>\n",
              "      <td>NaN</td>\n",
              "      <td>NaN</td>\n",
              "      <td>NaN</td>\n",
              "      <td>NaN</td>\n",
              "      <td>NaN</td>\n",
              "      <td>NaN</td>\n",
              "      <td>NaN</td>\n",
              "      <td>-1</td>\n",
              "      <td>NaN</td>\n",
              "      <td>-1</td>\n",
              "      <td>-1</td>\n",
              "      <td>-1</td>\n",
              "      <td>-1</td>\n",
              "      <td>-1</td>\n",
              "      <td>-1</td>\n",
              "      <td>NaN</td>\n",
              "      <td>NaN</td>\n",
              "      <td>NaN</td>\n",
              "      <td>NaN</td>\n",
              "      <td>NaN</td>\n",
              "      <td>NaN</td>\n",
              "      <td>NaN</td>\n",
              "      <td>NaN</td>\n",
              "      <td>NaN</td>\n",
              "      <td>NaN</td>\n",
              "      <td>NaN</td>\n",
              "      <td>...</td>\n",
              "      <td>NaN</td>\n",
              "      <td>NaN</td>\n",
              "      <td>NaN</td>\n",
              "      <td>NaN</td>\n",
              "      <td>NaN</td>\n",
              "      <td>NaN</td>\n",
              "      <td>NaN</td>\n",
              "      <td>NaN</td>\n",
              "      <td>NaN</td>\n",
              "      <td>NaN</td>\n",
              "      <td>NaN</td>\n",
              "      <td>NaN</td>\n",
              "      <td>NaN</td>\n",
              "      <td>NaN</td>\n",
              "      <td>NaN</td>\n",
              "      <td>NaN</td>\n",
              "      <td>NaN</td>\n",
              "      <td>NaN</td>\n",
              "      <td>NaN</td>\n",
              "      <td>NaN</td>\n",
              "      <td>NaN</td>\n",
              "      <td>NaN</td>\n",
              "      <td>NaN</td>\n",
              "      <td>NaN</td>\n",
              "      <td>NaN</td>\n",
              "      <td>NaN</td>\n",
              "      <td>NaN</td>\n",
              "      <td>NaN</td>\n",
              "      <td>NaN</td>\n",
              "      <td>NaN</td>\n",
              "      <td>-1</td>\n",
              "      <td>NaN</td>\n",
              "      <td>NaN</td>\n",
              "      <td>NaN</td>\n",
              "      <td>NaN</td>\n",
              "      <td>NaN</td>\n",
              "      <td>NaN</td>\n",
              "      <td>NaN</td>\n",
              "      <td>NaN</td>\n",
              "      <td>-1</td>\n",
              "    </tr>\n",
              "    <tr>\n",
              "      <th>23859</th>\n",
              "      <td>502</td>\n",
              "      <td>Male</td>\n",
              "      <td>-1</td>\n",
              "      <td>25-29</td>\n",
              "      <td>Spain</td>\n",
              "      <td>Master’s degree</td>\n",
              "      <td>Mathematics or statistics</td>\n",
              "      <td>NaN</td>\n",
              "      <td>-1</td>\n",
              "      <td>NaN</td>\n",
              "      <td>-1</td>\n",
              "      <td>NaN</td>\n",
              "      <td>NaN</td>\n",
              "      <td>NaN</td>\n",
              "      <td>NaN</td>\n",
              "      <td>NaN</td>\n",
              "      <td>NaN</td>\n",
              "      <td>NaN</td>\n",
              "      <td>NaN</td>\n",
              "      <td>NaN</td>\n",
              "      <td>NaN</td>\n",
              "      <td>-1</td>\n",
              "      <td>NaN</td>\n",
              "      <td>-1</td>\n",
              "      <td>-1</td>\n",
              "      <td>-1</td>\n",
              "      <td>-1</td>\n",
              "      <td>-1</td>\n",
              "      <td>-1</td>\n",
              "      <td>NaN</td>\n",
              "      <td>NaN</td>\n",
              "      <td>NaN</td>\n",
              "      <td>NaN</td>\n",
              "      <td>NaN</td>\n",
              "      <td>NaN</td>\n",
              "      <td>NaN</td>\n",
              "      <td>NaN</td>\n",
              "      <td>NaN</td>\n",
              "      <td>NaN</td>\n",
              "      <td>NaN</td>\n",
              "      <td>...</td>\n",
              "      <td>NaN</td>\n",
              "      <td>NaN</td>\n",
              "      <td>NaN</td>\n",
              "      <td>NaN</td>\n",
              "      <td>NaN</td>\n",
              "      <td>NaN</td>\n",
              "      <td>NaN</td>\n",
              "      <td>NaN</td>\n",
              "      <td>NaN</td>\n",
              "      <td>NaN</td>\n",
              "      <td>NaN</td>\n",
              "      <td>NaN</td>\n",
              "      <td>NaN</td>\n",
              "      <td>NaN</td>\n",
              "      <td>NaN</td>\n",
              "      <td>NaN</td>\n",
              "      <td>NaN</td>\n",
              "      <td>NaN</td>\n",
              "      <td>NaN</td>\n",
              "      <td>NaN</td>\n",
              "      <td>NaN</td>\n",
              "      <td>NaN</td>\n",
              "      <td>NaN</td>\n",
              "      <td>NaN</td>\n",
              "      <td>NaN</td>\n",
              "      <td>NaN</td>\n",
              "      <td>NaN</td>\n",
              "      <td>NaN</td>\n",
              "      <td>NaN</td>\n",
              "      <td>NaN</td>\n",
              "      <td>-1</td>\n",
              "      <td>NaN</td>\n",
              "      <td>NaN</td>\n",
              "      <td>NaN</td>\n",
              "      <td>NaN</td>\n",
              "      <td>NaN</td>\n",
              "      <td>NaN</td>\n",
              "      <td>NaN</td>\n",
              "      <td>NaN</td>\n",
              "      <td>-1</td>\n",
              "    </tr>\n",
              "  </tbody>\n",
              "</table>\n",
              "<p>23860 rows × 395 columns</p>\n",
              "</div>"
            ],
            "text/plain": [
              "      Time from Start to Finish (seconds)  ...                                     Q50_OTHER_TEXT\n",
              "0                   Duration (in seconds)  ...  What barriers prevent you from making your wor...\n",
              "1                                     710  ...                                                 -1\n",
              "2                                     434  ...                                                 -1\n",
              "3                                     718  ...                                                 -1\n",
              "4                                     621  ...                                                 -1\n",
              "...                                   ...  ...                                                ...\n",
              "23855                                 575  ...                                                 -1\n",
              "23856                                 131  ...                                                 -1\n",
              "23857                                 370  ...                                                 -1\n",
              "23858                                  36  ...                                                 -1\n",
              "23859                                 502  ...                                                 -1\n",
              "\n",
              "[23860 rows x 395 columns]"
            ]
          },
          "metadata": {},
          "execution_count": 38
        }
      ]
    },
    {
      "cell_type": "code",
      "metadata": {
        "colab": {
          "base_uri": "https://localhost:8080/",
          "height": 424
        },
        "id": "D9bICdvu4N-D",
        "outputId": "256ac3f0-5d4a-4ada-ab58-a884c8e72f61"
      },
      "source": [
        "#Filtering the required Fields from Dataframe\n",
        "df=df[['Q1','Q9']]\n",
        "df"
      ],
      "execution_count": 39,
      "outputs": [
        {
          "output_type": "execute_result",
          "data": {
            "text/html": [
              "<div>\n",
              "<style scoped>\n",
              "    .dataframe tbody tr th:only-of-type {\n",
              "        vertical-align: middle;\n",
              "    }\n",
              "\n",
              "    .dataframe tbody tr th {\n",
              "        vertical-align: top;\n",
              "    }\n",
              "\n",
              "    .dataframe thead th {\n",
              "        text-align: right;\n",
              "    }\n",
              "</style>\n",
              "<table border=\"1\" class=\"dataframe\">\n",
              "  <thead>\n",
              "    <tr style=\"text-align: right;\">\n",
              "      <th></th>\n",
              "      <th>Q1</th>\n",
              "      <th>Q9</th>\n",
              "    </tr>\n",
              "  </thead>\n",
              "  <tbody>\n",
              "    <tr>\n",
              "      <th>0</th>\n",
              "      <td>What is your gender? - Selected Choice</td>\n",
              "      <td>What is your current yearly compensation (appr...</td>\n",
              "    </tr>\n",
              "    <tr>\n",
              "      <th>1</th>\n",
              "      <td>Female</td>\n",
              "      <td>NaN</td>\n",
              "    </tr>\n",
              "    <tr>\n",
              "      <th>2</th>\n",
              "      <td>Male</td>\n",
              "      <td>10-20,000</td>\n",
              "    </tr>\n",
              "    <tr>\n",
              "      <th>3</th>\n",
              "      <td>Female</td>\n",
              "      <td>0-10,000</td>\n",
              "    </tr>\n",
              "    <tr>\n",
              "      <th>4</th>\n",
              "      <td>Male</td>\n",
              "      <td>NaN</td>\n",
              "    </tr>\n",
              "    <tr>\n",
              "      <th>...</th>\n",
              "      <td>...</td>\n",
              "      <td>...</td>\n",
              "    </tr>\n",
              "    <tr>\n",
              "      <th>23855</th>\n",
              "      <td>Male</td>\n",
              "      <td>250-300,000</td>\n",
              "    </tr>\n",
              "    <tr>\n",
              "      <th>23856</th>\n",
              "      <td>Female</td>\n",
              "      <td>NaN</td>\n",
              "    </tr>\n",
              "    <tr>\n",
              "      <th>23857</th>\n",
              "      <td>Male</td>\n",
              "      <td>10-20,000</td>\n",
              "    </tr>\n",
              "    <tr>\n",
              "      <th>23858</th>\n",
              "      <td>Male</td>\n",
              "      <td>NaN</td>\n",
              "    </tr>\n",
              "    <tr>\n",
              "      <th>23859</th>\n",
              "      <td>Male</td>\n",
              "      <td>NaN</td>\n",
              "    </tr>\n",
              "  </tbody>\n",
              "</table>\n",
              "<p>23860 rows × 2 columns</p>\n",
              "</div>"
            ],
            "text/plain": [
              "                                           Q1                                                 Q9\n",
              "0      What is your gender? - Selected Choice  What is your current yearly compensation (appr...\n",
              "1                                      Female                                                NaN\n",
              "2                                        Male                                          10-20,000\n",
              "3                                      Female                                           0-10,000\n",
              "4                                        Male                                                NaN\n",
              "...                                       ...                                                ...\n",
              "23855                                    Male                                        250-300,000\n",
              "23856                                  Female                                                NaN\n",
              "23857                                    Male                                          10-20,000\n",
              "23858                                    Male                                                NaN\n",
              "23859                                    Male                                                NaN\n",
              "\n",
              "[23860 rows x 2 columns]"
            ]
          },
          "metadata": {},
          "execution_count": 39
        }
      ]
    },
    {
      "cell_type": "code",
      "metadata": {
        "colab": {
          "base_uri": "https://localhost:8080/",
          "height": 424
        },
        "id": "jxppU8wZ5GYY",
        "outputId": "94aaac34-894c-4297-886e-c74a5f6601ab"
      },
      "source": [
        "#Data cleaning and dropping the null values\n",
        "df=df.dropna()\n",
        "df=df.drop(0)\n",
        "df.isnull().sum(axis=0)\n",
        "df"
      ],
      "execution_count": 40,
      "outputs": [
        {
          "output_type": "execute_result",
          "data": {
            "text/html": [
              "<div>\n",
              "<style scoped>\n",
              "    .dataframe tbody tr th:only-of-type {\n",
              "        vertical-align: middle;\n",
              "    }\n",
              "\n",
              "    .dataframe tbody tr th {\n",
              "        vertical-align: top;\n",
              "    }\n",
              "\n",
              "    .dataframe thead th {\n",
              "        text-align: right;\n",
              "    }\n",
              "</style>\n",
              "<table border=\"1\" class=\"dataframe\">\n",
              "  <thead>\n",
              "    <tr style=\"text-align: right;\">\n",
              "      <th></th>\n",
              "      <th>Q1</th>\n",
              "      <th>Q9</th>\n",
              "    </tr>\n",
              "  </thead>\n",
              "  <tbody>\n",
              "    <tr>\n",
              "      <th>2</th>\n",
              "      <td>Male</td>\n",
              "      <td>10-20,000</td>\n",
              "    </tr>\n",
              "    <tr>\n",
              "      <th>3</th>\n",
              "      <td>Female</td>\n",
              "      <td>0-10,000</td>\n",
              "    </tr>\n",
              "    <tr>\n",
              "      <th>5</th>\n",
              "      <td>Male</td>\n",
              "      <td>0-10,000</td>\n",
              "    </tr>\n",
              "    <tr>\n",
              "      <th>6</th>\n",
              "      <td>Male</td>\n",
              "      <td>I do not wish to disclose my approximate yearl...</td>\n",
              "    </tr>\n",
              "    <tr>\n",
              "      <th>7</th>\n",
              "      <td>Male</td>\n",
              "      <td>10-20,000</td>\n",
              "    </tr>\n",
              "    <tr>\n",
              "      <th>...</th>\n",
              "      <td>...</td>\n",
              "      <td>...</td>\n",
              "    </tr>\n",
              "    <tr>\n",
              "      <th>23848</th>\n",
              "      <td>Male</td>\n",
              "      <td>I do not wish to disclose my approximate yearl...</td>\n",
              "    </tr>\n",
              "    <tr>\n",
              "      <th>23850</th>\n",
              "      <td>Female</td>\n",
              "      <td>I do not wish to disclose my approximate yearl...</td>\n",
              "    </tr>\n",
              "    <tr>\n",
              "      <th>23854</th>\n",
              "      <td>Male</td>\n",
              "      <td>10-20,000</td>\n",
              "    </tr>\n",
              "    <tr>\n",
              "      <th>23855</th>\n",
              "      <td>Male</td>\n",
              "      <td>250-300,000</td>\n",
              "    </tr>\n",
              "    <tr>\n",
              "      <th>23857</th>\n",
              "      <td>Male</td>\n",
              "      <td>10-20,000</td>\n",
              "    </tr>\n",
              "  </tbody>\n",
              "</table>\n",
              "<p>20185 rows × 2 columns</p>\n",
              "</div>"
            ],
            "text/plain": [
              "           Q1                                                 Q9\n",
              "2        Male                                          10-20,000\n",
              "3      Female                                           0-10,000\n",
              "5        Male                                           0-10,000\n",
              "6        Male  I do not wish to disclose my approximate yearl...\n",
              "7        Male                                          10-20,000\n",
              "...       ...                                                ...\n",
              "23848    Male  I do not wish to disclose my approximate yearl...\n",
              "23850  Female  I do not wish to disclose my approximate yearl...\n",
              "23854    Male                                          10-20,000\n",
              "23855    Male                                        250-300,000\n",
              "23857    Male                                          10-20,000\n",
              "\n",
              "[20185 rows x 2 columns]"
            ]
          },
          "metadata": {},
          "execution_count": 40
        }
      ]
    },
    {
      "cell_type": "code",
      "metadata": {
        "id": "RN-xbrEK5UE0"
      },
      "source": [
        "#Data cleaning and removing unnecessary text from the selected fields\n",
        "df=df[df[\"Q9\"]!=\"I do not wish to disclose my approximate yearly compensation\"]\n",
        "df=df[df[\"Q1\"]!=\"Prefer not to say\"]\n"
      ],
      "execution_count": 41,
      "outputs": []
    },
    {
      "cell_type": "code",
      "metadata": {
        "id": "AYRWt8a3fnRW"
      },
      "source": [
        "#Selected the upper limit values from Q9 field to perform sorting\n",
        "singleValueList=[]\n",
        "for x in df['Q9']:\n",
        "  try:\n",
        "    singleValueList.append(x.split('-')[1].replace(',',''))\n",
        "  except IndexError:\n",
        "    singleValueList.append(x.split('+')[0].replace(',',''))"
      ],
      "execution_count": 42,
      "outputs": []
    },
    {
      "cell_type": "markdown",
      "metadata": {
        "id": "7SOMmoQXaEdi"
      },
      "source": [
        "Question 1:"
      ]
    },
    {
      "cell_type": "code",
      "metadata": {
        "colab": {
          "base_uri": "https://localhost:8080/"
        },
        "id": "ldAjNLnyi48R",
        "outputId": "0f7fff21-ef97-4cdf-f976-a7ac3e011368"
      },
      "source": [
        "#Sorting the salary values to calculate Median\n",
        "\n",
        "singleValueList=[*map(int, singleValueList)]\n",
        "df['SingleValued']=singleValueList\n",
        "sorted_df=df.sort_values(by=['SingleValued'])\n",
        "sorted_df_male=sorted_df.loc[sorted_df['Q1']=='Male']\n",
        "sorted_df_female=sorted_df.loc[sorted_df['Q1']=='Female']\n",
        "medianvalue_Males=int(len(sorted_df_male[\"Q9\"])/2)+1\n",
        "medianvalue_Females=int(len(sorted_df_female[\"Q9\"])/2)+1\n",
        "print(\"median salary of males: \",sorted_df_male.iloc[medianvalue_Males,:]['Q9'])\n",
        "print(\"median salary of Females: \",sorted_df_female.iloc[medianvalue_Females,:]['Q9'])"
      ],
      "execution_count": 43,
      "outputs": [
        {
          "output_type": "stream",
          "name": "stdout",
          "text": [
            "median salary of males:  30-40,000\n",
            "median salary of Females:  20-30,000\n"
          ]
        }
      ]
    },
    {
      "cell_type": "markdown",
      "metadata": {
        "id": "yMvEbCKw7s3-"
      },
      "source": [
        "Question 2:\n"
      ]
    },
    {
      "cell_type": "code",
      "metadata": {
        "colab": {
          "base_uri": "https://localhost:8080/",
          "height": 366
        },
        "id": "A3ur4Jv6ADdV",
        "outputId": "dfefc730-216d-4daa-8cc8-a367e154d67a"
      },
      "source": [
        "#Plotting overlaid Graph\n",
        "\n",
        "plt.hist(sorted_df_male[\"Q9\"],label=\"Males\")\n",
        "plt.hist(sorted_df_female[\"Q9\"],label=\"Females\")\n",
        "plt.xlabel(\"Income Ranges\")\n",
        "plt.ylabel(\"Count of Number of Male and Females\")\n",
        "plt.title(\"Incomes of female and male employees in the population\")\n",
        "plt.xticks(rotation=90)\n",
        "plt.legend()"
      ],
      "execution_count": 32,
      "outputs": [
        {
          "output_type": "execute_result",
          "data": {
            "text/plain": [
              "<matplotlib.legend.Legend at 0x7f2bdbd45390>"
            ]
          },
          "metadata": {},
          "execution_count": 32
        },
        {
          "output_type": "display_data",
          "data": {
            "image/png": "[encoded data removed]",
            "text/plain": [
              "<Figure size 432x288 with 1 Axes>"
            ]
          },
          "metadata": {
            "needs_background": "light"
          }
        }
      ]
    },
    {
      "cell_type": "markdown",
      "metadata": {
        "id": "kxHydXEFZwd6"
      },
      "source": [
        "Histograms of Male and Female incomes "
      ]
    },
    {
      "cell_type": "code",
      "metadata": {
        "colab": {
          "base_uri": "https://localhost:8080/",
          "height": 408
        },
        "id": "vBx3iCoRA2cQ",
        "outputId": "e3fb9edc-340f-4e72-e8ca-712aedb952e2"
      },
      "source": [
        "plt.hist([sorted_df_male[\"Q9\"],sorted_df_female[\"Q9\"]] ,label=\"Males\")\n",
        "plt.xticks(rotation=90)"
      ],
      "execution_count": 12,
      "outputs": [
        {
          "output_type": "stream",
          "name": "stderr",
          "text": [
            "/usr/local/lib/python3.7/dist-packages/numpy/core/_asarray.py:83: VisibleDeprecationWarning: Creating an ndarray from ragged nested sequences (which is a list-or-tuple of lists-or-tuples-or ndarrays with different lengths or shapes) is deprecated. If you meant to do this, you must specify 'dtype=object' when creating the ndarray\n",
            "  return array(a, dtype, copy=False, order=order)\n"
          ]
        },
        {
          "output_type": "execute_result",
          "data": {
            "text/plain": [
              "([0, 1, 2, 3, 4, 5, 6, 7, 8, 9, 10, 11, 12, 13, 14, 15, 16, 17],\n",
              " <a list of 18 Text major ticklabel objects>)"
            ]
          },
          "metadata": {},
          "execution_count": 12
        },
        {
          "output_type": "display_data",
          "data": {
            "image/png": "[encoded data removed]",
            "text/plain": [
              "<Figure size 432x288 with 1 Axes>"
            ]
          },
          "metadata": {
            "needs_background": "light"
          }
        }
      ]
    },
    {
      "cell_type": "code",
      "metadata": {
        "colab": {
          "base_uri": "https://localhost:8080/",
          "height": 424
        },
        "id": "nudKa2XouXBo",
        "outputId": "00e28a6d-1822-42f9-e8d2-cc73b2c0bb41"
      },
      "source": [
        "df[\"Q9\"]=df[\"Q9\"].replace(['10-20,000','0-10,000','20-30,000','125-150,000','30-40,000','50-60,000',\n",
        "'100-125,000','90-100,000' ,'70-80,000','80-90,000','60-70,000','400-500,000','40-50,000',\n",
        "'150-200,000','300-400,000','200-250,000','500,000+','250-300,000'],[15000,5000,25000,145000,\n",
        "35000,55000,120000,95000,75000,85000,65000,495000,45000,195000,395000,245000,500000,295000])\n",
        "df=df[df[\"Q1\"]!='Prefer to self-describe']\n",
        "df"
      ],
      "execution_count": 13,
      "outputs": [
        {
          "output_type": "execute_result",
          "data": {
            "text/html": [
              "<div>\n",
              "<style scoped>\n",
              "    .dataframe tbody tr th:only-of-type {\n",
              "        vertical-align: middle;\n",
              "    }\n",
              "\n",
              "    .dataframe tbody tr th {\n",
              "        vertical-align: top;\n",
              "    }\n",
              "\n",
              "    .dataframe thead th {\n",
              "        text-align: right;\n",
              "    }\n",
              "</style>\n",
              "<table border=\"1\" class=\"dataframe\">\n",
              "  <thead>\n",
              "    <tr style=\"text-align: right;\">\n",
              "      <th></th>\n",
              "      <th>Q1</th>\n",
              "      <th>Q9</th>\n",
              "      <th>SingleValued</th>\n",
              "    </tr>\n",
              "  </thead>\n",
              "  <tbody>\n",
              "    <tr>\n",
              "      <th>2</th>\n",
              "      <td>Male</td>\n",
              "      <td>15000</td>\n",
              "      <td>20000</td>\n",
              "    </tr>\n",
              "    <tr>\n",
              "      <th>3</th>\n",
              "      <td>Female</td>\n",
              "      <td>5000</td>\n",
              "      <td>10000</td>\n",
              "    </tr>\n",
              "    <tr>\n",
              "      <th>5</th>\n",
              "      <td>Male</td>\n",
              "      <td>5000</td>\n",
              "      <td>10000</td>\n",
              "    </tr>\n",
              "    <tr>\n",
              "      <th>7</th>\n",
              "      <td>Male</td>\n",
              "      <td>15000</td>\n",
              "      <td>20000</td>\n",
              "    </tr>\n",
              "    <tr>\n",
              "      <th>8</th>\n",
              "      <td>Male</td>\n",
              "      <td>5000</td>\n",
              "      <td>10000</td>\n",
              "    </tr>\n",
              "    <tr>\n",
              "      <th>...</th>\n",
              "      <td>...</td>\n",
              "      <td>...</td>\n",
              "      <td>...</td>\n",
              "    </tr>\n",
              "    <tr>\n",
              "      <th>18195</th>\n",
              "      <td>Male</td>\n",
              "      <td>55000</td>\n",
              "      <td>60000</td>\n",
              "    </tr>\n",
              "    <tr>\n",
              "      <th>18197</th>\n",
              "      <td>Male</td>\n",
              "      <td>120000</td>\n",
              "      <td>125000</td>\n",
              "    </tr>\n",
              "    <tr>\n",
              "      <th>18198</th>\n",
              "      <td>Male</td>\n",
              "      <td>5000</td>\n",
              "      <td>10000</td>\n",
              "    </tr>\n",
              "    <tr>\n",
              "      <th>18199</th>\n",
              "      <td>Male</td>\n",
              "      <td>120000</td>\n",
              "      <td>125000</td>\n",
              "    </tr>\n",
              "    <tr>\n",
              "      <th>18201</th>\n",
              "      <td>Male</td>\n",
              "      <td>5000</td>\n",
              "      <td>10000</td>\n",
              "    </tr>\n",
              "  </tbody>\n",
              "</table>\n",
              "<p>12574 rows × 3 columns</p>\n",
              "</div>"
            ],
            "text/plain": [
              "           Q1      Q9  SingleValued\n",
              "2        Male   15000         20000\n",
              "3      Female    5000         10000\n",
              "5        Male    5000         10000\n",
              "7        Male   15000         20000\n",
              "8        Male    5000         10000\n",
              "...       ...     ...           ...\n",
              "18195    Male   55000         60000\n",
              "18197    Male  120000        125000\n",
              "18198    Male    5000         10000\n",
              "18199    Male  120000        125000\n",
              "18201    Male    5000         10000\n",
              "\n",
              "[12574 rows x 3 columns]"
            ]
          },
          "metadata": {},
          "execution_count": 13
        }
      ]
    },
    {
      "cell_type": "code",
      "metadata": {
        "colab": {
          "base_uri": "https://localhost:8080/",
          "height": 424
        },
        "id": "feHRtV9IX2tJ",
        "outputId": "bc9d7178-22c7-4b1b-d1c3-4b0ab5b4e551"
      },
      "source": [
        "#Randomly selecting 500 records from the population\n",
        "random_500_samples=df.sample(500)\n",
        "random_500_samples"
      ],
      "execution_count": 14,
      "outputs": [
        {
          "output_type": "execute_result",
          "data": {
            "text/html": [
              "<div>\n",
              "<style scoped>\n",
              "    .dataframe tbody tr th:only-of-type {\n",
              "        vertical-align: middle;\n",
              "    }\n",
              "\n",
              "    .dataframe tbody tr th {\n",
              "        vertical-align: top;\n",
              "    }\n",
              "\n",
              "    .dataframe thead th {\n",
              "        text-align: right;\n",
              "    }\n",
              "</style>\n",
              "<table border=\"1\" class=\"dataframe\">\n",
              "  <thead>\n",
              "    <tr style=\"text-align: right;\">\n",
              "      <th></th>\n",
              "      <th>Q1</th>\n",
              "      <th>Q9</th>\n",
              "      <th>SingleValued</th>\n",
              "    </tr>\n",
              "  </thead>\n",
              "  <tbody>\n",
              "    <tr>\n",
              "      <th>11556</th>\n",
              "      <td>Female</td>\n",
              "      <td>5000</td>\n",
              "      <td>10000</td>\n",
              "    </tr>\n",
              "    <tr>\n",
              "      <th>17458</th>\n",
              "      <td>Male</td>\n",
              "      <td>25000</td>\n",
              "      <td>30000</td>\n",
              "    </tr>\n",
              "    <tr>\n",
              "      <th>7167</th>\n",
              "      <td>Male</td>\n",
              "      <td>5000</td>\n",
              "      <td>10000</td>\n",
              "    </tr>\n",
              "    <tr>\n",
              "      <th>6240</th>\n",
              "      <td>Male</td>\n",
              "      <td>15000</td>\n",
              "      <td>20000</td>\n",
              "    </tr>\n",
              "    <tr>\n",
              "      <th>12197</th>\n",
              "      <td>Male</td>\n",
              "      <td>5000</td>\n",
              "      <td>10000</td>\n",
              "    </tr>\n",
              "    <tr>\n",
              "      <th>...</th>\n",
              "      <td>...</td>\n",
              "      <td>...</td>\n",
              "      <td>...</td>\n",
              "    </tr>\n",
              "    <tr>\n",
              "      <th>480</th>\n",
              "      <td>Male</td>\n",
              "      <td>25000</td>\n",
              "      <td>30000</td>\n",
              "    </tr>\n",
              "    <tr>\n",
              "      <th>5505</th>\n",
              "      <td>Male</td>\n",
              "      <td>95000</td>\n",
              "      <td>100000</td>\n",
              "    </tr>\n",
              "    <tr>\n",
              "      <th>10051</th>\n",
              "      <td>Male</td>\n",
              "      <td>15000</td>\n",
              "      <td>20000</td>\n",
              "    </tr>\n",
              "    <tr>\n",
              "      <th>7531</th>\n",
              "      <td>Male</td>\n",
              "      <td>5000</td>\n",
              "      <td>10000</td>\n",
              "    </tr>\n",
              "    <tr>\n",
              "      <th>14507</th>\n",
              "      <td>Female</td>\n",
              "      <td>5000</td>\n",
              "      <td>10000</td>\n",
              "    </tr>\n",
              "  </tbody>\n",
              "</table>\n",
              "<p>500 rows × 3 columns</p>\n",
              "</div>"
            ],
            "text/plain": [
              "           Q1     Q9  SingleValued\n",
              "11556  Female   5000         10000\n",
              "17458    Male  25000         30000\n",
              "7167     Male   5000         10000\n",
              "6240     Male  15000         20000\n",
              "12197    Male   5000         10000\n",
              "...       ...    ...           ...\n",
              "480      Male  25000         30000\n",
              "5505     Male  95000        100000\n",
              "10051    Male  15000         20000\n",
              "7531     Male   5000         10000\n",
              "14507  Female   5000         10000\n",
              "\n",
              "[500 rows x 3 columns]"
            ]
          },
          "metadata": {},
          "execution_count": 14
        }
      ]
    },
    {
      "cell_type": "code",
      "metadata": {
        "colab": {
          "base_uri": "https://localhost:8080/",
          "height": 143
        },
        "id": "33K3UYLnaDJb",
        "outputId": "eed2a6d0-f2de-455b-8bbd-f6e43241d3a6"
      },
      "source": [
        "#count of randomly selected records in aspects of gender\n",
        "random_500_samples.groupby('Q1').count()"
      ],
      "execution_count": 15,
      "outputs": [
        {
          "output_type": "execute_result",
          "data": {
            "text/html": [
              "<div>\n",
              "<style scoped>\n",
              "    .dataframe tbody tr th:only-of-type {\n",
              "        vertical-align: middle;\n",
              "    }\n",
              "\n",
              "    .dataframe tbody tr th {\n",
              "        vertical-align: top;\n",
              "    }\n",
              "\n",
              "    .dataframe thead th {\n",
              "        text-align: right;\n",
              "    }\n",
              "</style>\n",
              "<table border=\"1\" class=\"dataframe\">\n",
              "  <thead>\n",
              "    <tr style=\"text-align: right;\">\n",
              "      <th></th>\n",
              "      <th>Q9</th>\n",
              "      <th>SingleValued</th>\n",
              "    </tr>\n",
              "    <tr>\n",
              "      <th>Q1</th>\n",
              "      <th></th>\n",
              "      <th></th>\n",
              "    </tr>\n",
              "  </thead>\n",
              "  <tbody>\n",
              "    <tr>\n",
              "      <th>Female</th>\n",
              "      <td>69</td>\n",
              "      <td>69</td>\n",
              "    </tr>\n",
              "    <tr>\n",
              "      <th>Male</th>\n",
              "      <td>431</td>\n",
              "      <td>431</td>\n",
              "    </tr>\n",
              "  </tbody>\n",
              "</table>\n",
              "</div>"
            ],
            "text/plain": [
              "         Q9  SingleValued\n",
              "Q1                       \n",
              "Female   69            69\n",
              "Male    431           431"
            ]
          },
          "metadata": {},
          "execution_count": 15
        }
      ]
    },
    {
      "cell_type": "code",
      "metadata": {
        "colab": {
          "base_uri": "https://localhost:8080/"
        },
        "id": "MEV34ImIyzYb",
        "outputId": "9f691d05-8f14-42ae-cfb1-50611606586c"
      },
      "source": [
        "# Calculation of Median Value of Male incomes from the random 500 sample\n",
        "male_sample=random_500_samples.loc[random_500_samples['Q1']=='Male']\n",
        "print('Median Income of Male Sample is {}'.format(male_sample['Q9'].median()))"
      ],
      "execution_count": 16,
      "outputs": [
        {
          "output_type": "stream",
          "name": "stdout",
          "text": [
            "Median Income of Male Sample is 35000.0\n"
          ]
        }
      ]
    },
    {
      "cell_type": "code",
      "metadata": {
        "colab": {
          "base_uri": "https://localhost:8080/"
        },
        "id": "yhBMDN9wznOv",
        "outputId": "008c1e10-713f-4b65-be6a-6adadec87e00"
      },
      "source": [
        "# Calculation of Median Value of Female incomes from the random 500 sample\n",
        "female_sample=random_500_samples.loc[random_500_samples['Q1']=='Female']\n",
        "print('Median Income of female Sample is {}'.format(female_sample['Q9'].median()))"
      ],
      "execution_count": 17,
      "outputs": [
        {
          "output_type": "stream",
          "name": "stdout",
          "text": [
            "Median Income of female Sample is 35000.0\n"
          ]
        }
      ]
    },
    {
      "cell_type": "code",
      "metadata": {
        "colab": {
          "base_uri": "https://localhost:8080/"
        },
        "id": "WpqhuHcg0Cuk",
        "outputId": "07b95541-1a80-4518-ee7f-fb5b4f494361"
      },
      "source": [
        "# test statistic and probability value\n",
        "from scipy.stats import ttest_1samp\n",
        "df[\"Q9\"].mean()\n",
        "salaryMean = df[\"Q9\"].mean()\n",
        "tTestValue,pValue = ttest_1samp(df[\"Q9\"],salaryMean)\n",
        "tTestValue,pValue"
      ],
      "execution_count": 18,
      "outputs": [
        {
          "output_type": "execute_result",
          "data": {
            "text/plain": [
              "(0.0, 1.0)"
            ]
          },
          "metadata": {},
          "execution_count": 18
        }
      ]
    },
    {
      "cell_type": "code",
      "metadata": {
        "colab": {
          "base_uri": "https://localhost:8080/"
        },
        "id": "nvYxFL3806zd",
        "outputId": "8c68846f-d8ac-4687-bb64-afcf1a710386"
      },
      "source": [
        "# test statistic and probability values for random sample\n",
        "import scipy.stats as stats\n",
        "stats.ttest_1samp(a=random_500_samples[\"Q9\"],popmean=random_500_samples[\"Q9\"].mean())"
      ],
      "execution_count": 19,
      "outputs": [
        {
          "output_type": "execute_result",
          "data": {
            "text/plain": [
              "Ttest_1sampResult(statistic=0.0, pvalue=1.0)"
            ]
          },
          "metadata": {},
          "execution_count": 19
        }
      ]
    },
    {
      "cell_type": "code",
      "metadata": {
        "colab": {
          "base_uri": "https://localhost:8080/"
        },
        "id": "fzAz65tQ1cXE",
        "outputId": "1ea54a33-c85b-45f1-b84b-129f6aee75df"
      },
      "source": [
        "#median value of males for sample\n",
        "m=male_sample[\"SingleValued\"].median()\n",
        "m"
      ],
      "execution_count": 20,
      "outputs": [
        {
          "output_type": "execute_result",
          "data": {
            "text/plain": [
              "40000.0"
            ]
          },
          "metadata": {},
          "execution_count": 20
        }
      ]
    },
    {
      "cell_type": "code",
      "metadata": {
        "colab": {
          "base_uri": "https://localhost:8080/"
        },
        "id": "_syIHgzZjZtC",
        "outputId": "9c2edf5d-00cb-4723-a2c1-c748a272242b"
      },
      "source": [
        "#median value of females for sample\n",
        "f=female_sample[\"SingleValued\"].median()\n",
        "f"
      ],
      "execution_count": 21,
      "outputs": [
        {
          "output_type": "execute_result",
          "data": {
            "text/plain": [
              "40000.0"
            ]
          },
          "metadata": {},
          "execution_count": 21
        }
      ]
    },
    {
      "cell_type": "code",
      "metadata": {
        "colab": {
          "base_uri": "https://localhost:8080/",
          "height": 265
        },
        "id": "4A5Uv8i8jfr6",
        "outputId": "02329f8d-b69a-4bd0-c6c7-3d13a669cc23"
      },
      "source": [
        "#Histogram plot for males median value and females median value with red and yellow dots\n",
        "plt.hist(random_500_samples[\"SingleValued\"],bins=200)\n",
        "plt.xticks()\n",
        "plt.scatter(m,0,color=\"yellow\")\n",
        "plt.scatter(f,0,color=\"Red\")\n",
        "plt.show()\n"
      ],
      "execution_count": 22,
      "outputs": [
        {
          "output_type": "display_data",
          "data": {
            "image/png": "[encoded data removed]",
            "text/plain": [
              "<Figure size 432x288 with 1 Axes>"
            ]
          },
          "metadata": {
            "needs_background": "light"
          }
        }
      ]
    },
    {
      "cell_type": "code",
      "metadata": {
        "colab": {
          "base_uri": "https://localhost:8080/"
        },
        "id": "iqG-9QT3CEc6",
        "outputId": "600f35d8-f5ba-48a8-a762-c58bd2d89422"
      },
      "source": [
        "#Difference values of Male Median and Female Median Value\n",
        "males1=random_500_samples[random_500_samples[\"Q1\"]==\"Male\"]\n",
        "females1=random_500_samples[random_500_samples[\"Q1\"]==\"Female\"]\n",
        "males1[\"SingleValued\"].median()\n",
        "females1[\"SingleValued\"].median()\n",
        "#males1[\"SingleValued\"].median()\n",
        "diff_male_female_salary=(males1[\"SingleValued\"].median())-(females1[\"SingleValued\"].median())\n",
        "diff_male_female_salary"
      ],
      "execution_count": 23,
      "outputs": [
        {
          "output_type": "execute_result",
          "data": {
            "text/plain": [
              "0.0"
            ]
          },
          "metadata": {},
          "execution_count": 23
        }
      ]
    },
    {
      "cell_type": "code",
      "metadata": {
        "colab": {
          "base_uri": "https://localhost:8080/",
          "height": 282
        },
        "id": "ahXyNZBnhRZL",
        "outputId": "77c9401d-8ca1-48e3-92ef-bd3ea122e96a"
      },
      "source": [
        "#Histogram plot with difference of Males Median and Females Median(Red Dot)\n",
        "plt.hist(random_500_samples[\"SingleValued\"],bins=20,alpha=1.0,edgecolor='black',color='blue', linewidth=1.2,label=\"males salary\") # PLot histogram for 500 samples of Median salries of Male and Female \n",
        "plt.hist(random_500_samples[\"SingleValued\"],bins=20,alpha=1.0,edgecolor='black',color='brown', linewidth=2,label=\"Females salary\") # PLot histogram for 500 samples of Median salries of Male and Female \n",
        "\n",
        "plt.scatter(diff_male_female_salary,0,color='red',label='Median') # Plot dot for Median differnce of male and female\n",
        "plt.legend()"
      ],
      "execution_count": 44,
      "outputs": [
        {
          "output_type": "execute_result",
          "data": {
            "text/plain": [
              "<matplotlib.legend.Legend at 0x7f2bdbc9b190>"
            ]
          },
          "metadata": {},
          "execution_count": 44
        },
        {
          "output_type": "display_data",
          "data": {
            "image/png": "[encoded data removed]",
            "text/plain": [
              "<Figure size 432x288 with 1 Axes>"
            ]
          },
          "metadata": {
            "needs_background": "light"
          }
        }
      ]
    },
    {
      "cell_type": "code",
      "metadata": {
        "colab": {
          "base_uri": "https://localhost:8080/"
        },
        "id": "LJqcpMRHDWWK",
        "outputId": "edd7b345-cac7-4eeb-df03-b208b652195a"
      },
      "source": [
        "#Producing 5000 samples using Bootstrap\n",
        "np.random.seed(500)\n",
        "sample_bootstrap_mean=[]\n",
        "for i in range(5000):\n",
        "  sample=np.random.choice(df['Q9'],len(df['Q9']))\n",
        "  sample_bootstrap_mean.append(sample.mean())\n",
        "print(sample_bootstrap_mean)\n",
        "print(len(sample_bootstrap_mean))\n",
        "#print(len(sample))\n",
        "#print(len(df['Q9']))\n",
        "#print(sample)"
      ],
      "execution_count": 25,
      "outputs": [
        {
          "output_type": "stream",
          "name": "stdout",
          "text": [
            "[55186.09829807539, 56045.41116589789, 55089.47033561317, 54611.89756640687, 55118.49848894544, 55578.177191029106, 54430.173373628124, 55636.63114362971, 54900.588515985364, 54519.64370924129, 55003.18116748847, 55338.39669158581, 56107.443931923015, 54970.17655479561, 55387.70478765707, 55473.596309845714, 55220.295848576425, 55943.21616033084, 55844.20232225227, 54529.58485764275, 55543.18434865596, 55591.6971528551, 54976.53888977255, 55670.828694130745, 56520.99570542389, 56057.7381899157, 54320.42309527597, 54592.41291554, 54979.32241132496, 56388.18196278034, 55182.12183871481, 56058.53348178782, 55155.08191506283, 55345.15667249881, 54606.33052330205, 55076.34801972324, 55453.71401304279, 55193.255924924444, 54448.46508668681, 55487.1162716717, 55510.975027835215, 55405.996500715766, 54757.83362494035, 55178.94067122634, 54755.447749324005, 55157.07014474312, 55087.482105932875, 54971.76713853984, 55586.92540162239, 55209.55940830285, 55584.14188006998, 55024.25640209957, 55139.17607762049, 55598.45713376809, 55307.77795450931, 55722.125019882296, 55126.05376173055, 55848.57642754891, 56100.68395101002, 55449.33990774614, 55186.495944011454, 55168.60187688882, 54692.22204549069, 54500.55670431048, 54997.21647844759, 56254.175282328615, 55826.30825512963, 55172.18069031335, 55182.917130586924, 55411.56354382058, 56708.684587243515, 55287.10036583426, 55967.87020836647, 54722.44313663114, 54008.668681406074, 55408.38237633211, 55937.251471289965, 55324.876729759824, 54426.99220613965, 55094.63973278193, 55322.49085414347, 55255.28869094958, 55985.36662955305, 54630.189279465565, 55046.12692858279, 55019.08700493081, 55679.179258787975, 53882.217273739465, 55100.20677588675, 55670.43104819469, 55116.51025926515, 54930.0143152537, 55394.862414506126, 54840.94162557659, 55396.850644186416, 55114.1243836488, 54992.84237315095, 55869.65166216001, 55620.72530618737, 54243.67742961667, 54935.18371242246, 56323.3656752028, 55297.83680610784, 55098.21854620646, 55685.14394782885, 55075.55272785112, 55301.81326546843, 55013.12231588993, 56414.824240496266, 55587.72069349451, 54649.27628439637, 54850.48512804199, 55641.40289486241, 56405.678383966915, 54206.29871162717, 56332.9091776682, 54551.05773818991, 55535.62907587084, 55297.83680610784, 55848.97407348497, 56037.06060124066, 54046.44504533164, 56398.123111181805, 55243.359312867826, 55048.115158263085, 54835.37458247177, 55860.10815969461, 55419.91410847781, 54439.31923015747, 54875.53682201368, 56040.24176872912, 55101.00206775887, 55747.9720057261, 55400.03181167488, 53826.14919675521, 55843.40703038015, 55563.861937331, 55590.90186098298, 54946.71544456816, 55011.13408620964, 55143.94782885319, 56072.45108954987, 55102.99029743916, 54781.29473516781, 55480.75393669477, 55815.96946079211, 55481.151582630824, 55320.50262446318, 56101.08159694608, 55804.437728646415, 56439.47828853189, 54953.47542548115, 55596.86655002386, 56095.51455384126, 55966.67727055829, 54564.57770001591, 54663.59153809448, 55548.75139176078, 55986.55956736122, 54934.38842055034, 55789.32718307619, 55133.211388579606, 56539.68506441864, 56217.98950214729, 54955.06600922539, 55802.05185303006, 54439.716876093524, 55192.062987116275, 55839.43057101956, 55188.08652775569, 55218.307618896135, 55773.818991569904, 55555.90901860983, 56520.598059487835, 55220.69349451249, 55285.90742802608, 54931.60489899793, 55289.48624145061, 55998.886591379036, 55077.938603467475, 54680.690313344996, 55551.137267377126, 55705.02624463178, 55079.52918721171, 54314.85605217115, 54911.32495625895, 55818.75298234452, 55118.100843009386, 55237.792269763006, 55757.51550819151, 55093.844440909816, 56046.20645777, 55251.31223158899, 54749.48306028312, 54565.770637824084, 55632.25703833307, 56435.89947510736, 55046.52457451885, 54691.029107682516, 54852.07571178622, 55130.427867027196, 56008.03244790838, 56156.35438205821, 55306.58501670113, 55172.97598218546, 55754.7319866391, 54334.34070303802, 55951.169079052015, 55110.54557022427, 55642.19818673453, 56318.5939239701, 54941.14840146334, 55912.59742325434, 55733.65675202799, 55204.78765707015, 56328.1374264355, 56089.94751073644, 55549.149037696836, 55197.23238428503, 55784.953077779544, 54617.86225544775, 55329.648480992524, 55694.68745029426, 55340.782567202165, 55842.611738508036, 55258.07221250199, 55390.48830920948, 54964.60951169079, 56270.876411643076, 55145.53841259742, 55703.8333068236, 55541.99141084778, 56515.82630825513, 55462.85986957213, 54168.91999363767, 55923.73150946397, 56550.81915062828, 55215.524097343725, 54490.21790997296, 56616.43073007794, 55256.08398282169, 55201.606489581674, 55040.95753141403, 54794.01940512168, 54370.9241291554, 55508.986798154925, 55964.689040878, 55809.209479879115, 56631.54127564816, 53614.999204708125, 55904.644504533164, 55869.65166216001, 55368.61778272626, 55252.10752346111, 55811.59535549547, 55126.05376173055, 55198.42532209321, 54719.26196914267, 55517.73500874821, 56132.495625894706, 55870.44695403213, 54124.78129473517, 55669.23811038651, 54909.734372514715, 55230.23699697789, 54818.27580722125, 55687.92746938126, 54148.64005089868, 55081.11977095594, 55003.18116748847, 54940.35310959122, 54610.30698266264, 56968.34738348974, 54533.958962939396, 55866.072848735486, 54525.21075234611, 55584.53952600605, 54638.14219818673, 55228.2487672976, 55887.54572928265, 55453.71401304279, 55174.16891999364, 55480.75393669477, 55161.04660410371, 54462.38269444886, 55145.14076666137, 56755.20916176237, 55312.54970574201, 55318.91204071894, 55685.14394782885, 55060.04453634484, 55640.20995705424, 55570.22427230794, 55094.24208684587, 55305.39207889295, 55314.14028948624, 55347.1449021791, 54871.16271671704, 55973.03960553523, 54920.073166852235, 54191.585811993, 55097.42325433434, 56402.49721647845, 55649.75345951964, 56034.6747256243, 54372.117066963576, 54595.19643709241, 54829.80753936695, 55999.28423731509, 54686.65500238587, 53891.36313026881, 54472.323842850325, 56087.959281056144, 55045.72928264673, 55437.41052966439, 54746.69953873071, 55411.56354382058, 56061.31700334023, 56105.455702242725, 55535.62907587084, 53708.84364561794, 56052.17114681088, 55245.74518848417, 55893.51041832352, 54993.63766502307, 55146.7313504056, 54525.60839828217, 55338.39669158581, 55457.690472403374, 55846.98584380468, 55133.60903451567, 54534.754254811516, 56437.09241291554, 54941.546047399395, 55364.64132336568, 56474.07348496898, 54287.41848258311, 56307.85748369652, 55485.92333386353, 54400.34992842373, 54688.24558613011, 56159.93319548274, 54760.219500556705, 54897.00970256084, 56415.22188643232, 55417.1305869254, 56773.89852075712, 55827.898838873865, 55338.79433752187, 55405.5988547797, 55272.387466200096, 55327.26260537617, 55611.977095594084, 56348.815015110544, 55140.76666136472, 55825.51296325752, 54425.79926833148, 56327.73978049944, 55120.089072689676, 54871.560362653094, 54521.631938921586, 55862.494035310956, 55911.80213138222, 56153.5708605058, 54343.88420550342, 55940.83028471449, 55603.2288850008, 55552.72785112136, 55069.9856847463, 55870.844599968186, 54781.692381103865, 55587.72069349451, 55686.734531573085, 54739.54191188166, 55928.105614760614, 55786.54366152378, 54624.22459042469, 55465.64339112454, 55240.17814537935, 55926.117385080324, 55188.08652775569, 54333.5454111659, 56372.67377127406, 55341.57785907428, 55076.7456656593, 54707.73023699698, 54768.17241927788, 55798.870685541595, 55229.83935104183, 55989.74073484969, 55279.942738985206, 55712.18387148083, 55144.7431207253, 55154.68426912677, 55543.581994592016, 55513.758549387625, 55761.09432161603, 56463.33704469541, 55318.514394782884, 55693.89215842214, 54821.45697470972, 56406.87132177509, 55477.97041514236, 55284.31684428185, 55697.868617782726, 54634.961030698265, 55808.01654207094, 55732.46381421982, 55936.05853348179, 54459.201526960394, 55608.79592810562, 55065.2139335136, 55218.307618896135, 56327.73978049944, 55456.89518053125, 55165.42070940035, 56348.815015110544, 55051.69397168761, 55959.9172896453, 56256.958803881025, 54792.826467313505, 54803.165261651026, 54736.758390329254, 55365.43661523779, 55525.29028153332, 56084.38046763162, 55281.53332272944, 54654.04803562908, 55416.335295053286, 55378.161285191665, 55047.71751232702, 55777.79545093049, 55378.55893112772, 55722.52266581835, 56135.279147447116, 55062.82805789725, 54990.85414347066, 55648.56052171147, 55378.956577063786, 55619.532368379194, 54908.54143470654, 55792.90599650072, 54970.97184666773, 55607.205344361384, 54585.25528869095, 55217.90997296008, 55102.99029743916, 56440.273580404006, 55821.93414983299, 55917.766820423094, 55265.6274852871, 56536.503896930175, 55016.70112931446, 54974.153014156196, 55196.43709241292, 54689.43852393828, 55502.624463177985, 55641.40289486241, 56506.680451725784, 55544.77493240019, 55033.00461269286, 54716.47844759026, 54779.30650548751, 55238.58756163512, 55815.17416891999, 54652.8550978209, 55858.11993001431, 55431.04819468745, 53923.57245108955, 54301.336090345154, 56043.820582153654, 55291.87211706697, 54741.530141561954, 54912.91554000318, 54884.682678543024, 56252.187052648325, 55621.52059805949, 55613.965325274374, 54803.56290758708, 55227.05582948942, 54385.239382853506, 54590.42468585971, 56140.44854461587, 56432.718307618896, 55148.32193414983, 55759.10609193574, 55594.87832034357, 56389.37490058852, 55637.42643550183, 55696.67567997455, 54798.79115635438, 55200.01590583744, 56559.965007157625, 55994.91013201845, 54448.46508668681, 55222.28407825672, 56621.6001272467, 54850.08748210593, 55579.37012883728, 56371.48083346588, 55927.3103228885, 54622.634006680455, 55776.602513122314, 54981.31064100525, 54039.287418482585, 55745.586130109754, 55949.578495307775, 55763.87784316844, 55053.682201367905, 55355.49546683633, 56115.39685064419, 55184.50771433116, 55289.48624145061, 54840.543979640526, 54973.357722284076, 54184.03053920789, 55667.24988070622, 54467.94973755368, 54113.64720852553, 55176.15714967393, 54844.12279306506, 55184.90536026722, 55825.910609193576, 56148.401463337046, 55240.97343725147, 55447.351678065854, 55300.620327660254, 55501.03387943375, 55530.06203276602, 55439.39875934468, 55677.58867504374, 55382.13774455225, 55227.05582948942, 54435.34277079688, 55306.58501670113, 55996.898361698746, 55122.47494830603, 55811.59535549547, 55928.50326069668, 55370.606012406555, 55961.11022745348, 55223.4770160649, 55575.393669476696, 56060.52171146811, 54733.179576904724, 54583.26705901066, 55166.61364720853, 54860.0286305074, 54362.97121043423, 55325.27437569588, 55152.69603944648, 54071.099093367266, 55503.02210911405, 56000.47717512327, 55905.83744234134, 55616.748846826784, 54427.78749801177, 55660.09225385717, 55393.66947669795, 55604.81946874503, 54464.37092412916, 56738.11038651185, 55928.900906632734, 54847.70160648958, 55248.52871003658, 56338.07857483697, 55862.494035310956, 53752.98234452044, 55448.94226181009, 55266.820423095276, 55579.37012883728, 54986.87768411007, 55355.49546683633, 54706.13965325274, 55597.26419595992, 54428.98043581995, 55851.35994910132, 55190.07475743598, 55803.24479083824, 55777.79545093049, 54619.45283919198, 55400.03181167488, 55902.25862891681, 55188.8818196278, 55985.764275489106, 55591.6971528551, 54952.680133609036, 54786.86177827263, 54166.534118021314, 55271.98982026404, 55188.08652775569, 55234.61110227453, 55376.173055511375, 56196.91426753619, 55538.014951487196, 54814.299347860666, 55724.113249562586, 54873.15094639733, 56245.824717671385, 55098.616192142516, 54927.628439637345, 54833.38635279147, 54773.73946238269, 55734.45204390011, 54863.20979799586, 54845.71337680929, 55898.67981549229, 55194.846508668685, 54805.55113726738, 55948.78320343566, 54057.976777477335, 54761.41243836488, 54782.487672975985, 55499.04564975346, 55375.377763639255, 55117.70319707332, 56608.08016542071, 55481.151582630824, 55966.279624622235, 55030.618737076504, 55331.636710672814, 55363.4483855575, 55838.63527914745, 56056.942898043584, 55273.97804994433, 54897.00970256084, 56064.10052489264, 55722.52266581835, 53588.754572928265, 56084.77811356768, 54854.06394146652, 56038.253539048834, 55268.01336090345, 54807.937012883725, 55424.28821377445, 54809.527596627966, 55323.68379195165, 55664.86400508987, 54979.720057261016, 55174.96421186576, 54587.243518371244, 55054.875139176074, 55877.20693494513, 55479.163352950534, 55431.84348655957, 55615.15826308255, 55371.40130427867, 55233.81581040242, 56718.22808970892, 55002.38587561635, 56261.33290917767, 54966.99538730714, 56037.85589311277, 55227.45347542548, 55593.68538253539, 54696.596150787336, 55819.15062828058, 54897.804994432954, 55930.889136313024, 55931.684428185144, 55355.09782090027, 55156.27485287101, 55542.38905678384, 55002.38587561635, 54865.19802767616, 55512.16796564339, 55618.73707650708, 55642.19818673453, 54129.55304596787, 55659.29696198505, 54897.00970256084, 56732.14569747097, 55865.277556863366, 55245.347542548116, 55489.104501352, 54262.76443454748, 54694.60792110705, 55618.33943057102, 55992.12661046604, 55131.223158899316, 56012.008907268966, 55155.87720693494, 55105.37617305551, 55611.181803721964, 56200.890726896774, 56068.87227612534, 55041.35517735009, 54984.491808493716, 55518.530300620325, 54351.04183235247, 55664.06871321775, 54435.34277079688, 55365.83426117385, 53930.730077938606, 55910.60919357404, 55026.24463177986, 55046.12692858279, 54401.145220295846, 54687.45029425799, 55689.12040718944, 55590.90186098298, 56321.77509145856, 55755.924924447274, 56227.135358676634, 55626.68999522825, 55363.84603149356, 55934.0703038015, 55497.057420073164, 54925.640209957055, 55630.666454588834, 55375.377763639255, 55639.81231111818, 55280.73803085733, 54875.93446794974, 55400.429457610946, 55699.856847463016, 54656.433911245425, 55275.56863368856, 55754.33434070304, 56143.62971210434, 56334.89740734849, 55372.19659615079, 55630.26880865278, 55172.97598218546, 54256.40209957054, 55668.840464450455, 55152.29839351042, 55404.80356290759, 55196.834738348974, 56287.57754095753, 55083.10800063623, 55255.28869094958, 55292.26976300302, 56148.7991092731, 55920.15269603945, 56036.26530936854, 56216.001272466994, 55971.846667727055, 53828.93271830762, 55693.49451248608, 55970.65372991888, 54674.72562430412, 54293.780817560044, 55654.52521075235, 55139.57372355655, 55607.60299029744, 56666.534118021314, 54489.8202640369, 55185.700652139334, 55504.61269285828, 56202.878956577064, 55518.92794655639, 55557.89724829012, 55283.52155240974, 56255.36822013679, 55713.774455225066, 54421.822808970894, 54443.295689518054, 55893.90806425958, 55672.81692381104, 55353.904883092095, 55875.61635120089, 55769.842532209324, 55089.07268967711, 55588.51598536663, 55946.79497375537, 54118.02131382217, 55670.03340225863, 56553.60267218069, 55914.18800699857, 54871.16271671704, 54883.88738667091, 54329.171305869255, 55787.3389533959, 54812.31111818037, 55893.11277238747, 55618.33943057102, 55007.952918721174, 55189.279465563865, 55209.957054238905, 55412.3588356927, 55470.41514235725, 54508.90726896771, 55345.554318434864, 56112.215683155715, 54088.59551455384, 56002.86305073962, 55431.04819468745, 55658.50167011293, 54311.67488468268, 55204.78765707015, 54908.939080642594, 55911.40448544616, 54815.09463973278, 55163.83012565612, 54988.07062191825, 56280.81756004454, 56319.78686177827, 54667.17035151901, 55002.78352155241, 55878.79751868936, 54331.159535549545, 55874.82105932877, 55090.265627485285, 54832.988706855416, 55971.846667727055, 54779.704151423575, 54660.80801654207, 55394.862414506126, 55135.994910132016, 54600.76348019723, 55663.67106728169, 56301.49514871958, 55036.185780181324, 55791.71305869254, 55762.684905360264, 54978.52711945284, 54677.50914585653, 55735.24733577223, 55000.79529187212, 54977.73182758072, 55353.109591219974, 55344.36138062669, 54538.33306823604, 55163.034833784, 55149.117226021954, 56062.509941148404, 56311.43629712104, 55231.429934786065, 54816.68522347702, 55629.0758708446, 55408.78002226817, 55380.54716080802, 55463.65516144425, 55847.78113567679, 55289.48624145061, 54994.43295689518, 55269.20629871163, 54279.06791792588, 55773.818991569904, 54776.920629871165, 55151.10545570224, 55021.87052648322, 55036.185780181324, 55279.942738985206, 54933.59312867822, 55940.034992842375, 55091.45856529346, 54635.35867663432, 54372.912358835696, 55318.514394782884, 54603.149355813584, 55364.243677429615, 54669.1585811993, 56343.24797200572, 56330.12565611579, 54574.91649435343, 55242.564020995706, 55748.36965166216, 55955.54318434866, 54597.97995864482, 54836.56752027994, 55089.47033561317, 54827.81930968665, 55126.05376173055, 54083.02847144902, 55631.85939239701, 56202.083664704944, 54537.14013042787, 55039.764593605854, 55236.59933195483, 54578.49530777796, 56070.46285986957, 54842.53220932082, 55884.76220773024, 54932.79783680611, 54544.29775727692, 54926.43550182917, 55984.17369174487, 55137.18784794019, 55445.76109432161, 56023.14299347861, 55015.90583744234, 55365.83426117385, 55914.983298870684, 54995.2282487673, 55939.239700970254, 55032.6069667568, 55171.783044377284, 55054.875139176074, 55288.29330364244, 55917.766820423094, 55383.33068236043, 55477.5727692063, 55961.507873389535, 55621.12295212343, 55485.12804199141, 55632.25703833307, 54731.191347224434, 55497.45506600923, 55037.77636392556, 55724.90854143471, 56503.896930173374, 55693.89215842214, 55656.911086368695, 55011.5317321457, 56080.404008271034, 55429.45761094322, 55097.8209002704, 54982.90122474948, 55930.889136313024, 55695.48274216637, 55563.066645458886, 54469.93796723398, 55588.91363130269, 55250.914585652936, 56637.10831875298, 55079.131541275645, 55315.33322729442, 55980.197232384286, 56024.73357722284, 54913.31318593924, 54736.758390329254, 55603.626530936854, 54769.36535708605, 55982.58310800064, 54805.55113726738, 55606.80769842532, 55262.84396373469, 55704.62859869572, 54895.816764752664, 55207.57117862255, 55193.65357086051, 54730.396055352314, 54963.018927946556, 56166.295530459676, 54453.634483855574, 54768.96771114999, 54637.744552250675, 55036.981072053444, 54892.6355972642, 56206.85541593765, 55722.52266581835, 54801.177031970736, 55396.45299825036, 54549.46715444568, 55534.43613806267, 55052.886909495784, 55317.71910291077, 56573.087323047555, 55854.54111658979, 55171.783044377284, 54996.42118657547, 55423.09527596628, 56249.00588515985, 55734.84968983617, 55318.91204071894, 55051.69397168761, 55464.45045331636, 55242.564020995706, 54901.78145379354, 55019.48465086687, 54962.22363607444, 55911.0068395101, 54856.84746301893, 56148.401463337046, 56041.4347065373, 55043.74105296644, 55547.95609988866, 55901.06569110863, 54716.87609352633, 54733.179576904724, 55792.90599650072, 55525.29028153332, 54993.63766502307, 54941.94369333545, 54897.804994432954, 55491.490376968344, 56069.66756799746, 54686.257356449816, 54765.786543661525, 55499.04564975346, 55155.08191506283, 55246.93812629235, 55843.40703038015, 55407.58708446, 54500.55670431048, 56828.376013997135, 55613.965325274374, 54693.812629234926, 54830.60283123906, 55935.26324160967, 55170.590106569114, 55535.62907587084, 55810.004771751235, 55287.498011770316, 54868.776841100684, 55491.09273103229, 54998.40941625577, 55073.16685223477, 55750.75552727851, 55865.277556863366, 55470.41514235725, 54574.51884841737, 55466.83632893272, 55295.05328455543, 55828.694130745986, 56474.868776841104, 54997.21647844759, 55718.54620645777, 54216.63750596469, 56151.98027676157, 54575.71178622555, 55458.48576427549, 55782.964848099255, 54841.33927151265, 55629.0758708446, 54365.75473198664, 55634.64291394942, 54879.910927310324, 55132.01845077144, 54805.153491331315, 55603.2288850008, 54551.45538412598, 55197.23238428503, 56152.77556863369, 55741.60967074917, 55423.09527596628, 54854.46158740258, 55258.469858438046, 54906.55320502625, 54652.45745188484, 54622.634006680455, 55317.71910291077, 55702.24272307937, 54640.13042786703, 55369.01542866232, 55453.71401304279, 55491.490376968344, 54556.22713535868, 54192.38110386512, 54562.98711627167, 55396.45299825036, 55832.27294417051, 55442.18228089709, 54959.44011452203, 55106.56911086369, 55061.63512008907, 54887.86384603149, 56893.589947510736, 55157.86543661524, 54840.14633370447, 55314.14028948624, 54689.43852393828, 56610.46604103706, 55485.52568792747, 55541.19611897566, 55792.508350564654, 54668.363289327186, 55726.896771114996, 55435.02465404804, 56047.79704151423, 55297.83680610784, 56492.36519802768, 55995.70542389057, 55935.66088754573, 55957.13376809289, 55354.700174964215, 54925.640209957055, 56129.31445840623, 54702.95848576428, 55942.818514394785, 55108.954986480036, 54974.153014156196, 54654.84332750119, 54924.04962621282, 55062.43041196119, 54895.41911881661, 55262.84396373469, 54519.64370924129, 55393.66947669795, 55228.2487672976, 54593.60585334818, 54323.604262764435, 55384.5236201686, 54807.14172101161, 54994.03531095912, 55239.38285350724, 55331.636710672814, 55497.852711945285, 54394.78288531891, 55998.091299506916, 55080.32447908382, 55315.33322729442, 55467.233974868774, 55593.68538253539, 54905.36026721807, 55032.209320820744, 55589.31127723875, 56143.62971210434, 56014.39478288532, 55313.34499761413, 55600.04771751233, 54946.71544456816, 54827.421663750596, 55145.53841259742, 56222.363607443935, 54525.60839828217, 55128.04199141085, 54979.32241132496, 54669.556227135356, 55686.734531573085, 54849.68983616988, 55235.40639414665, 55931.684428185144, 55660.88754572928, 56587.800222681726, 56078.8134245268, 55640.6076029903, 54585.25528869095, 54654.84332750119, 55804.437728646415, 54542.309527596626, 55230.23699697789, 56375.45729282647, 55518.13265468427, 56047.00174964212, 55110.54557022427, 56613.64720852553, 55398.04358199459, 54314.06076029903, 55371.00365834261, 55664.86400508987, 54351.83712422459, 55077.938603467475, 55157.46779067918, 54947.51073644027, 55367.42484491808, 55442.9775727692, 53759.742325433435, 55291.07682519485, 56944.88627326229, 55520.51853030062, 55952.362016860185, 56075.23461110228, 55125.656115794496, 55361.460155877205, 54903.372037537774, 56551.21679656434, 55641.005248926354, 55325.27437569588, 55615.55590901861, 55710.5932877366, 54945.52250675998, 56120.566247812945, 54561.39653252744, 55987.752505169396, 54930.411961189755, 55241.768729123585, 55316.12851916654, 55718.54620645777, 54775.72769206299, 55622.71353586766, 54163.35295053285, 55045.72928264673, 55073.16685223477, 56891.60171783045, 55831.08000636233, 55073.96214410689, 55715.76268490536, 55383.33068236043, 55484.730396055355, 54164.14824240496, 55147.92428821378, 56619.21425163035, 55016.70112931446, 54434.1498329887, 55231.429934786065, 55876.01399713695, 55251.31223158899, 54580.881183394304, 55443.37521870527, 55186.89358994751, 55354.700174964215, 55593.68538253539, 55644.584062350885, 55304.19914108478, 54895.816764752664, 55592.49244472721, 54453.23683791952, 55494.67154445682, 55200.81119770956, 55763.08255129633, 55703.03801495149, 55678.78161285192, 56120.16860187689, 55040.55988547797, 55297.83680610784, 55910.211547637984, 54738.34897407349, 55676.395737235565, 55865.67520279943, 54794.41705105774, 55623.90647367584, 55261.65102592651, 55649.75345951964, 55017.09877525052, 55361.06250994115, 55717.75091458565, 54496.97789088595, 54629.79163352951, 54807.53936694767, 55162.239541911884, 55918.562112295214, 55490.297439160175, 54263.95737235565, 54763.40066804517, 55013.12231588993, 54704.15142357245, 55428.662319071096, 55103.78558931128, 55538.41259742325, 55404.00827103547, 55009.94114840146, 55435.02465404804, 54685.06441864164, 54654.04803562908, 56100.68395101002, 55640.20995705424, 55004.7717512327, 55208.76411643073, 54686.257356449816, 55738.82614919676, 55764.275489104504, 54778.11356767934, 54935.58135835852, 56394.94194369334, 54863.60744393192, 55674.00986161921, 55089.07268967711, 55637.42643550183, 55575.79131541276, 55915.38094480674, 55735.64498170829, 55330.04612692858, 54084.61905519326, 56390.567838396695, 55015.90583744234, 55013.91760776205, 55274.375695880386, 54592.41291554, 54795.609988865916, 55024.65404803563, 55598.45713376809, 54237.315094639736, 55027.03992365198, 55797.67774773342, 54747.49483060283, 55320.50262446318, 55033.00461269286, 55818.75298234452, 54589.62939398759, 54158.978845236205, 55721.32972801018, 55571.41721011611, 55679.57690472403, 55598.45713376809, 54956.65659296962, 55228.646413233655, 56069.66756799746, 56011.61126133291, 56644.265945602034, 55240.17814537935, 54530.77779545093, 55475.18689358995, 55228.2487672976, 54924.844918084935, 55215.92174327978, 54614.283442023225, 55471.608080165424, 55524.892635597265, 55126.05376173055, 54257.59503737872, 54713.69492603785, 54378.47940194051, 55073.16685223477, 54835.772228407826, 55910.211547637984, 55317.71910291077, 55691.90392874185, 55735.24733577223, 55247.73341816447, 56632.33656752028, 55325.67202163194, 55692.69922061396, 54304.119611897564, 55416.335295053286, 55893.11277238747, 54485.84380467632, 55592.09479879116, 55168.60187688882, 56028.31239064737, 55771.830761889614, 55735.24733577223, 54957.05423890568, 55295.05328455543, 55660.489899793225, 54641.72101161126, 55573.40543979641, 55778.98838873867, 54977.73182758072, 55172.578336249404, 55427.86702719898, 55749.16494353428, 55885.15985366629, 55482.344520439, 54485.446158740255, 55052.09161762367, 55372.19659615079, 55692.69922061396, 55628.28057897248, 56206.85541593765, 55115.71496739303, 54745.10895498648, 56011.21361539685, 53947.43120725306, 56534.51566724988, 56167.48846826785, 55986.95721329728, 54325.592492444724, 55687.13217750915, 55539.20788929537, 55656.51344043264, 55031.414028948624, 55724.113249562586, 54921.26610466041, 55033.79990456498, 55511.770319707335, 56152.37792269763, 54717.67138539844, 55562.271353586766, 55066.40687132178, 54847.70160648958, 55568.23604262764, 54807.14172101161, 55851.75759503738, 55620.327660251314, 55142.75489104501, 53966.12056624781, 55595.27596627962, 56336.487991092734, 55208.36647049467, 55556.704310481946, 55671.2263400668, 56441.86416414824, 55123.667886114206, 54914.506123747415, 56042.62764434548, 54761.014792428825, 55048.51280419914, 55342.3731509464, 55426.674089390806, 55555.51137267377, 55229.441705105775, 54891.84030539208, 55073.96214410689, 55257.67456656593, 54223.397486877686, 55362.65309368538, 55277.95450930492, 55300.22268172419, 54812.31111818037, 55874.82105932877, 54957.05423890568, 55243.75695880388, 54669.556227135356, 54828.216955622716, 54879.910927310324, 55549.94432956895, 56039.446476857, 55757.51550819151, 55538.41259742325, 55397.24829012247, 55196.039446476854, 56315.81040241769, 54695.40321297917, 56130.90504215047, 54639.33513599491, 54442.898043582, 54962.22363607444, 55704.62859869572, 54012.64514076666, 54367.345315730876, 55185.700652139334, 56041.4347065373, 55043.74105296644, 55553.920788929536, 55811.197709559405, 55071.97391442659, 56441.86416414824, 55199.618259901385, 55528.07380308573, 56330.52330205185, 55027.03992365198, 55613.17003340226, 54951.48719580086, 55721.32972801018, 56167.48846826785, 55767.45665659297, 55157.46779067918, 56622.39541911882, 55690.71099093367, 54364.95944011452, 55368.2201367902, 55548.75139176078, 55265.22983935104, 55334.81787816129, 55207.57117862255, 56360.34674725624, 54340.305392078895, 56179.81549228567, 54713.69492603785, 55236.59933195483, 55533.243200254496, 54572.92826467314, 55953.55495466836, 55602.83123906473, 55168.60187688882, 55205.98059487832, 55636.63114362971, 55872.03753777636, 55561.07841577859, 56406.87132177509, 55829.4894226181, 56171.46492762844, 55816.764752664225, 56618.41895975823, 55576.18896134882, 55527.27851121362, 55093.44679497375, 53820.582153650386, 55693.49451248608, 56048.1946874503, 54742.72307937013, 55576.98425322093, 55534.03849212661, 55657.30873230476, 55544.77493240019, 55174.566565929694, 54814.299347860666, 54908.14378877048, 55638.221727373944, 55295.45093049149, 54809.527596627966, 55718.94385239383, 54228.56688404644, 55656.51344043264, 54561.39653252744, 55668.045172578335, 54795.609988865916, 54601.55877206935, 55674.407507555276, 54675.918562112296, 54698.98202640369, 55346.349610306985, 55563.861937331, 55600.04771751233, 55315.33322729442, 54517.25783362494, 55103.387943375215, 55047.319866390964, 55991.331318593926, 55363.4483855575, 55264.036901542866, 54912.91554000318, 55702.24272307937, 55134.00668045173, 55140.76666136472, 55185.700652139334, 54907.74614283442, 55273.18275807221, 55273.18275807221, 55713.37680928901, 56054.95466836329, 55412.3588356927, 55872.83282964848, 54993.240019087, 55746.38142198187, 55034.59519643709, 55240.575791315416, 55403.212979163356, 56477.652298393514, 55781.77191029108, 55840.62350882774, 56111.022745347545, 56645.45888341021, 54646.49276284396, 54928.423731509465, 54886.67090822332, 54744.313663114364, 54572.92826467314, 55625.099411484014, 54818.67345315731, 54308.49371719421, 55818.75298234452, 55606.01240655321, 54124.78129473517, 54237.315094639736, 55388.10243359313, 55236.59933195483, 54949.896612056626, 55552.3302051853, 55977.01606489582, 55369.01542866232, 55784.55543184349, 56315.81040241769, 54445.283919198344, 54341.49832988707, 54554.63655161444, 55145.14076666137, 55172.578336249404, 55326.46731350406, 55223.079370128835, 54910.52966438683, 54551.45538412598, 54516.46254175282, 55757.11786225545, 55094.24208684587, 55641.40289486241, 56804.914903769684, 54919.277874980115, 54996.02354063941, 55031.414028948624, 55800.06362334977, 56380.22904405917, 56370.68554159377, 54970.97184666773, 55265.6274852871, 54675.52091617624, 55173.77127405758, 55861.69874343884, 55496.26212820105, 55149.51487195801, 55077.143311595355, 54952.680133609036, 55336.40846190552, 54914.506123747415, 55155.87720693494, 55738.03085732464, 54811.1181803722, 55947.590265627485, 55365.038969301735, 54754.652457451884, 56090.742802608554, 55360.26721806903, 55400.429457610946, 55996.898361698746, 54707.73023699698, 55698.663909654846, 55327.660251312234, 55512.56561157945, 56101.47924288214, 54548.2742166375, 54599.172896453, 54850.48512804199, 55506.99856847463, 56086.36869731191, 53825.35390488309, 55895.49864800382, 54470.73325910609, 55752.74375695881, 54456.02035947193, 55254.0957531414, 55266.820423095276, 54201.129314458405, 55861.30109750279, 54792.42882137745, 55873.628121520596, 55107.762048671866, 54337.91951646254, 55561.07841577859, 54160.56942898044, 54767.774773341815, 55147.92428821378, 55493.47860664864, 55363.05073962144, 54581.676475266424, 56159.53554954669, 55209.16176236679, 54936.37665023063, 54946.71544456816, 55968.66550023859, 55309.36853825354, 55534.83378399873, 55109.3526324161, 56220.7730236997, 56328.53507237156, 54612.29521234293, 54096.54843327501, 56167.0908223318, 55778.59074280261, 54594.003499284234, 55504.21504692222, 54760.219500556705, 55035.78813424527, 56277.636392556065, 55971.846667727055, 54943.13663114363, 55194.44886273262, 55479.163352950534, 55756.72021631939, 54763.40066804517, 55233.0205185303, 54056.3861937331, 55862.0963893749, 54868.37919516463, 55738.82614919676, 55328.853189120404, 55334.81787816129, 55272.387466200096, 54565.770637824084, 54485.84380467632, 55163.43247972006, 56111.4203912836, 55547.5584539526, 55432.63877843168, 55652.934627008115, 55060.83982821696, 54486.241450612375, 54632.177509145855, 55176.15714967393, 54926.43550182917, 55789.724829012244, 56259.742325433435, 56058.53348178782, 56506.28280578973, 54222.20454906951, 55886.75043741053, 54546.28598695721, 55792.508350564654, 55547.16080801654, 55988.15015110545, 56906.71226340067, 55311.35676793383, 55154.28662319071, 54211.468108795925, 54610.704628598694, 55949.18084937172, 55394.862414506126, 54711.30905042151, 55106.171464927625, 54647.28805471608, 55406.39414665182, 55300.620327660254, 55724.51089549865, 55594.48067440751, 55308.57324638142, 54293.780817560044, 55455.30459678702, 55127.24669953873, 55465.64339112454, 55328.05789724829, 55287.89565770638, 55569.826626371876, 54496.580244949895, 55431.445840623506, 54982.50357881343, 55275.170987752506, 55300.22268172419, 55431.04819468745, 56802.52902815333, 55497.057420073164, 54963.814219818676, 55085.89152218864, 56045.01351996182, 56339.6691585812, 54137.10831875298, 54467.15444568157, 55670.03340225863, 55516.14442500398, 54950.29425799268, 55426.674089390806, 55512.56561157945, 55462.06457770002, 56450.61237474153, 54688.24558613011, 55293.86034674726, 55138.38078574837, 54969.381262923496, 54947.90838237633, 54997.61412438365, 55627.882933036424, 56091.93574041673, 55557.101956418, 55431.84348655957, 54461.985048512804, 55630.26880865278, 55938.8420550342, 55337.203753777634, 55292.66740893908, 55644.18641641482, 55195.6418005408, 55756.32257038333, 56064.89581676475, 54936.37665023063, 54761.41243836488, 56362.33497693654, 54839.74868776841, 55444.9658024495, 55503.81740098616, 54613.09050421505, 53824.55861301097, 57146.095116907905, 55586.92540162239, 54820.6616828376, 55800.06362334977, 54572.53061873707, 55975.425481151586, 55289.48624145061, 54405.91697152855, 54940.35310959122, 54753.06187370765, 56942.898043582, 54933.59312867822, 54754.25481151583, 55146.7313504056, 55221.4887863846, 55823.92237951328, 55650.54875139176, 55353.50723715604, 55214.33115953555, 55812.39064736758, 55606.410052489264, 55745.586130109754, 55009.54350246541, 56208.84364561794, 55882.77397804995, 56315.01511054557, 54772.94417051058, 55103.387943375215, 56091.14044854462, 54467.94973755368, 54656.03626530937, 54330.36424367743, 55301.01797359631, 55162.239541911884, 55690.71099093367, 56183.79195164626, 55713.774455225066, 55463.65516144425, 55620.72530618737, 55071.97391442659, 54893.43088913631, 55846.98584380468, 55373.389533958965, 54533.16367106728, 55611.57944965803, 55259.66279624622, 55859.31286782249, 55093.844440909816, 54619.45283919198, 54589.231748051534, 54914.506123747415, 56105.85334817878, 55569.03133449976, 55434.62700811198, 55431.04819468745, 55600.04771751233, 55649.355813583585, 54600.76348019723, 56116.589788452366, 55060.04453634484, 55306.187370765074, 55453.31636710673, 54914.10847781136, 54555.431843486556, 54302.52902815333, 55211.14999204708, 55402.81533322729, 54506.1237474153, 56210.83187529824, 55773.818991569904, 54821.45697470972, 54471.13090504215, 54975.34595196437, 54632.57515508192, 54857.64275489104, 55677.9863209798, 55859.710513758546, 54999.20470812788, 55268.01336090345, 54640.528073803085, 54405.51932559249, 55569.826626371876, 56268.88818196278, 55404.00827103547, 55856.92699220614, 55061.63512008907, 55309.7661841896, 55808.01654207094, 55655.718148560525, 54107.28487354859, 55263.241609670746, 54726.81724192779, 54954.668363289325, 55512.963257515505, 55647.367583903295, 56347.22443136631, 54518.45077143312, 55657.30873230476, 54119.61189756641, 55435.42229998409, 55511.770319707335, 56334.49976141244, 56506.28280578973, 55203.59471926197, 55077.54095753141, 54985.28710036584, 55134.80197232384, 55582.55129632575, 54901.383807857484, 55627.48528710037, 54347.065372991885, 55475.18689358995, 55484.33275011929, 55322.88850007953, 55080.722125019885, 55829.88706855416, 56794.97375536822, 55265.22983935104, 54493.39907746143, 55712.97916335295, 56503.896930173374, 55337.6013997137, 54344.281851439475, 55791.315412756485, 55597.66184189598, 55641.800540798475, 55167.011293144584, 55715.3650389693, 55034.197550501034, 55396.45299825036, 55991.72896452998, 54805.153491331315, 55003.18116748847, 54923.2543343407, 54621.44106887228, 54497.375536822015, 55549.94432956895, 55322.093208207414, 54754.652457451884, 56176.6343247972, 55355.49546683633, 55916.57388261492, 55347.54254811516, 56225.94242086846, 54536.34483855575, 55085.09623031653, 55242.16637505965, 55320.10497852712, 55190.472403372034, 55759.5037378718, 54923.2543343407, 55553.920788929536, 55364.64132336568, 54840.14633370447, 55294.25799268331, 56266.89995228249, 55464.05280738031, 55167.806585016704, 54903.76968347384, 55407.189438523936, 55695.48274216637, 55303.403849212664, 54624.22459042469, 56350.00795291872, 55749.56258947033, 54868.37919516463, 55281.53332272944, 55661.28519166534, 55541.593764911726, 55845.7929059965, 54897.00970256084, 54865.99331954827, 55027.03992365198, 55412.3588356927, 55327.26260537617, 55398.04358199459, 55527.676157149675, 54737.951328137424, 55644.18641641482, 54718.0690313345, 55199.618259901385, 55907.03038014952, 54560.20359471926, 55901.4633370447, 55161.04660410371, 55487.91156354382, 56221.96596150787, 55768.64959440115, 55330.443772864644, 56190.15428662319, 54479.08382376332, 54941.14840146334, 55219.102910768255, 55719.73914426594, 55655.32050262446, 56005.64657229203, 56729.75982185462, 55215.12645140767, 55226.26053761731, 55539.60553523143, 54560.60124065532, 55934.467949737555, 54902.1790997296, 55156.27485287101, 55205.58294894226, 55188.484173691744, 56483.61698743439, 54859.63098457134, 55986.55956736122, 55005.56704310482, 56066.88404644505, 56062.90758708446, 55800.06362334977, 54833.38635279147, 54163.35295053285, 55720.93208207412, 55002.78352155241, 55289.48624145061, 54539.526006044216, 55799.26833147765, 55478.368061078414, 55261.253379990456, 55158.2630825513, 55320.50262446318, 54700.57261014792, 55633.8476220773, 54465.96150787339, 55265.6274852871, 54670.351519007476, 54913.7108318753, 54699.379672339746, 55623.111181803724, 55291.07682519485, 55966.279624622235, 55027.8352155241, 55563.861937331, 55978.209002703996, 55998.886591379036, 55155.47956099889, 55315.730873230474, 54653.25274375696, 55233.41816446636, 54627.0081119771, 55220.69349451249, 55352.31429934786, 55594.87832034357, 54805.55113726738, 55539.20788929537, 55481.151582630824, 55032.209320820744, 55460.07634801972, 55931.684428185144, 56248.21059328774, 54020.99570542389, 53659.93319548274, 55141.56195323684, 54967.3930332432, 55000.79529187212, 55510.57738189916, 54462.38269444886, 55439.39875934468, 56307.0621918244, 55587.72069349451, 55668.44281851439, 55398.83887386671, 56070.46285986957, 54629.393987593445, 54978.924765388896, 54008.668681406074, 55769.842532209324, 55540.40082710355, 56043.025290281534, 55159.456020359474, 54354.22299984094, 56113.40862096389, 55901.06569110863, 54740.33720375378, 56258.1517416892, 55801.25656115795, 55711.38857960872, 55536.026721806906, 56311.43629712104, 55579.37012883728, 55205.185303006205, 56376.25258469858, 55757.51550819151, 54412.27930650549, 54868.776841100684, 55385.31891204072, 55707.01447431207, 55326.46731350406, 55243.359312867826, 55609.59121997773, 53756.958803881025, 54644.106887227616, 56244.63177986321, 54928.02608557341, 55290.281533322726, 54357.00652139335, 55510.57738189916, 54646.890408780026, 55900.66804517258, 56012.80419914109, 54570.54238905678, 54996.02354063941, 55441.78463496103, 55005.56704310482, 56935.34277079688, 55093.049149037695, 55189.67711149992, 55525.29028153332, 55299.42738985208, 55178.145379354224, 55697.868617782726, 54260.37855893113, 55067.20216319389, 54893.828535072375, 55899.077461428344, 55909.81390170193, 55905.04215046922, 55286.7027198982, 55645.379354223, 55371.79895021473, 56572.6896771115, 55225.06759980913, 53694.13074598378, 56200.49308096071, 55201.20884364562, 55200.01590583744, 54573.72355654525, 55901.4633370447, 55702.24272307937, 55459.28105614761, 55086.2891681247, 54444.88627326229, 56164.70494671544, 54046.44504533164, 55499.44329568952, 55679.974550660096, 56042.22999840941, 55359.86957213297, 56597.74137108319, 55412.3588356927, 54964.60951169079, 55494.273898520754, 55042.548115158264, 55233.41816446636, 55922.14092571974, 55301.81326546843, 55221.091140448545, 55764.67313504056, 55080.722125019885, 54746.301892794654, 55417.1305869254, 53784.39637346906, 56252.187052648325, 54810.720534436135, 56508.668681406074, 54130.34833783999, 56018.37124224591, 55546.365516144426, 55196.43709241292, 55596.86655002386, 55291.87211706697, 55328.05789724829, 56940.512167965644, 54835.772228407826, 54344.281851439475, 55467.233974868774, 56380.62668999523, 55279.54509304915, 55532.447908382375, 55784.15778590743, 55906.632734213454, 55100.60442182281, 54917.289645299825, 54947.113090504216, 54855.2568792747, 55225.06759980913, 55384.92126610466, 55421.50469222204, 55362.65309368538, 54708.12788293303, 54017.019246063304, 54753.45951964371, 55324.081437887704, 55520.120884364565, 56648.24240496262, 55172.18069031335, 55668.44281851439, 55952.75966279625, 55306.98266263719, 56396.53252743757, 55546.76316208048, 55996.898361698746, 55362.65309368538, 55753.93669476698, 54081.437887704786, 54349.45124860824, 55546.76316208048, 55938.8420550342, 54959.04246858597, 56077.620486718624, 55669.63575632257, 55139.57372355655, 55767.059010656914, 54245.66565929696, 56019.96182599014, 56550.421504692225, 55827.10354700175, 55795.291872117064, 55810.40241768729, 53831.31859392397, 55425.48115158263, 56705.901065691105, 55075.95037378718, 54623.42929855257, 55574.99602354064, 55658.89931604899, 55442.57992683315, 55312.94735167806, 54798.79115635438, 56245.02942579927, 55588.11833943057, 54195.16462541753, 56002.86305073962, 54410.68872276125, 56019.96182599014, 55753.93669476698, 54692.61969142676, 56093.526324160965, 55830.28471449022, 55634.64291394942, 54349.45124860824, 55324.47908382376, 56180.61078415778, 55569.826626371876, 55210.752346111025, 54796.80292667409, 54696.9937967234, 55443.77286464132, 55394.067122634006, 54548.67186257357, 54302.131382217274, 55085.89152218864, 55331.636710672814, 54757.03833306824, 55272.78511213615, 54965.007157626846, 54433.35454111659, 55031.81167488468, 54542.70717353269, 55272.387466200096, 55073.96214410689, 55724.90854143471, 55604.81946874503, 55770.63782408144, 55936.05853348179, 53970.89231748052, 56276.04580881183, 54877.127405757914, 55377.76363925561, 54837.760458088116, 54586.05058056307, 55563.066645458886, 56296.325751550816, 56170.27198982026, 54930.411961189755, 55459.28105614761, 55440.19405121679, 56275.25051693972, 56093.92397009703, 55549.54668363289, 54858.43804676316, 54959.83776045809, 56709.87752505169, 56179.02020041355, 55030.22109114045, 55093.049149037695, 56500.318116748844, 54883.09209479879, 54211.468108795925, 54578.892953714014, 55985.764275489106, 54456.81565134404, 55056.465722920315, 54985.68474630189, 55539.20788929537, 55807.61889613488, 56280.02226817242, 55387.30714172101, 56006.04421822809, 56135.279147447116, 55647.76522983935, 56433.91124542707, 56569.50850962303, 54535.54954668364, 54913.31318593924, 56170.27198982026, 54402.33815810402, 55003.97645936059, 54555.431843486556, 55203.19707332591, 55822.331795769045, 55738.42850326069, 55205.58294894226, 55092.65150310164, 55178.54302529028, 54745.10895498648, 55882.37633211388, 55514.15619532368, 55034.197550501034, 55497.45506600923, 55611.977095594084, 56118.97566406871, 56216.001272466994, 55167.40893908064, 55556.30666454589, 54591.21997773183, 54350.24654048036, 55581.35835851757, 55479.95864482265, 55478.76570701448, 56391.36313026881, 54838.55574996024, 55808.81183394306, 54732.384285032604, 54089.39080642596, 55082.710354700175, 55444.17051057738, 54869.96977890886, 55152.69603944648, 56494.35342770797, 55642.99347860665, 55595.27596627962, 55397.24829012247, 55765.468426912674, 54423.01574677907, 55695.48274216637, 56126.133290917765, 55241.768729123585, 55307.77795450931, 55853.34817878161, 55786.941307459834, 55842.21409257197, 54765.786543661525, 55251.31223158899, 56105.85334817878, 54903.372037537774, 54655.63861937331, 54803.56290758708, 54714.49021790997, 54779.704151423575, 54162.955304596784, 54752.26658183553, 54440.512167965644, 55481.151582630824, 54726.41959599173, 55320.10497852712, 55950.373787179895, 54265.54795609989, 55348.337839987274, 54638.14219818673, 55464.84809925243, 55107.3644027358, 55816.764752664225, 54954.27071735327, 55388.500079529185, 54829.409893430886, 55215.12645140767, 55177.74773341817, 55320.50262446318, 55141.95959917289, 55559.487832034356, 56292.74693812629, 55026.24463177986, 55231.03228885001, 55578.177191029106, 55611.57944965803, 54798.79115635438, 55172.18069031335, 55244.94989661206, 56421.98186734532, 55287.498011770316, 54498.96612056625, 55504.61269285828, 55588.11833943057, 55827.50119293781, 55780.181326546845, 55194.051216796564, 55305.78972482901, 55226.658183553365, 54560.99888659138, 56272.46699538731, 54833.78399872754, 54574.51884841737, 55468.824558613014, 56009.225385716556, 55373.78717989502, 55493.47860664864, 55362.255447749325, 55826.70590106569, 56492.762843963734, 55357.08605058056, 56080.404008271034, 55160.25131223159, 55048.115158263085, 54705.74200731669, 55862.89168124702, 56049.78527119453, 55729.680292667406, 54872.75330046127, 55693.89215842214, 55053.28455543184, 54786.86177827263, 55324.47908382376, 55786.54366152378, 56098.29807539367, 55332.432002544934, 55974.23254334341, 54836.56752027994, 55241.768729123585, 55046.12692858279, 54645.69747097185, 54491.808493717195, 56089.549864800385, 55252.902815333226, 55496.26212820105, 55048.51280419914, 55770.63782408144, 55521.7114681088, 55699.0615555909, 54265.54795609989, 54861.221568315574, 54487.83203435661, 56574.28026085573, 54297.359630984574, 55564.65722920312, 54977.73182758072, 55179.3383171624, 56196.11897566407, 55424.68585971052, 55018.68935899475, 54957.84953077779, 54730.79370128837, 54755.447749324005, 55483.53745824718, 56255.76586607285, 54646.095116907905, 56096.309845713375, 56116.1921425163, 54934.38842055034, 55966.67727055829, 55277.159217432796, 56583.42611738508, 54460.79211070463, 55526.08557340544, 55604.81946874503, 55765.86607284874, 55641.40289486241, 55272.387466200096, 56122.9521234293, 55611.57944965803, 55806.02831239065, 55224.27230793701, 54998.40941625577, 55920.94798791156, 55216.7170351519, 55720.53443613806, 55886.35279147447, 55011.5317321457, 56169.079052012086, 55961.507873389535, 55528.07380308573, 56506.680451725784, 55421.90233815811, 55921.74327978368, 55298.63209797996, 55401.22474948306, 56715.84221409257, 55772.62605376173, 55706.61682837601, 55104.58088118339, 54994.43295689518, 55088.67504374105, 53958.5652934627, 55524.892635597265, 55776.602513122314, 55380.944806744075, 55250.914585652936, 54902.1790997296, 55180.53125497058, 56136.07443931923, 55385.31891204072, 54910.92731032289, 56156.35438205821, 54342.293621759185, 55470.41514235725, 55592.49244472721, 54595.19643709241, 55496.26212820105, 55595.27596627962, 55576.18896134882, 54812.31111818037, 56046.20645777, 55466.83632893272, 55868.45872435184, 55088.67504374105, 55462.06457770002, 55889.13631302688, 55587.32304755846, 54786.06648640051, 54713.69492603785, 54711.70669635756, 54908.14378877048, 54807.937012883725, 54979.720057261016, 55507.39621441069, 55281.13567679338, 55030.618737076504, 55901.4633370447, 54829.01224749483, 55590.50421504692, 55451.7257833625, 55946.39732781931, 56541.275648162875, 54803.56290758708, 55728.88500079529, 55041.752823286144, 55820.343566088755, 55838.237633211385, 55804.04008271035, 54991.64943534277, 55535.62907587084, 56580.64259583267, 55004.7717512327, 55462.85986957213, 56418.800699856845, 55234.61110227453, 55761.88961348815, 54825.03578813424, 54726.81724192779, 56128.916812470176, 55685.54159376491, 55842.21409257197, 55651.344043263874, 55616.35120089073, 55106.56911086369, 54133.52950532846, 56210.434229362174, 55203.99236519803, 54555.82948942262, 54548.67186257357, 55498.6480038174, 55067.20216319389, 55097.8209002704, 56498.329887068554, 55484.33275011929, 55027.8352155241, 55646.572292031175, 55866.47049467154, 55904.24685859711, 55289.88388738667, 55718.54620645777, 54358.59710513759, 55485.92333386353, 56385.79608716399, 54452.04390011134, 55293.86034674726, 55899.077461428344, 55616.748846826784, 55569.42898043582, 55492.285668840464, 55149.91251789407, 55822.72944170511, 55430.65054875139, 55472.801017973594, 54755.447749324005, 55199.22061396533, 55563.46429139494, 55095.832670590105, 56101.876888818195, 54939.95546365516, 55381.34245268013, 56272.46699538731, 54002.7039923652, 55336.80610784158, 55166.61364720853, 56202.48131064101, 56058.13583585176, 55281.13567679338, 55180.133609034514, 56099.093367265785, 55231.82758072212, 55260.06044218228, 54915.69906155559, 54841.33927151265, 55465.245745188484, 55960.712581517415, 55088.277397804995, 57001.74964211866, 55139.57372355655, 55263.63925560681, 54662.3986002863, 55482.74216637506, 53990.774614283444, 54594.798791156354, 55132.81374264355, 55334.420232225224, 53310.80006362335, 56015.5877206935, 56574.28026085573, 54468.7450294258, 55347.94019405122, 54847.30396055352, 55703.435660887546, 56054.55702242723, 55688.72276125338, 54889.45442977573, 54829.409893430886, 55425.08350564657, 54479.08382376332, 54943.93192301575, 54816.68522347702, 55712.58151741689, 54660.41037060601, 55586.52775568634, 55671.623986002865, 54640.92571973914, 56193.73310004772, 55511.770319707335, 55848.17878161285, 55759.5037378718, 55741.2120248131, 55013.51996182599, 54838.15810402418, 56244.23413392715, 55319.70733259106, 56207.650707809764, 54993.63766502307, 56379.03610625099, 55326.069667568, 55217.11468108796, 54838.55574996024, 55322.88850007953, 54188.006998568475, 56120.566247812945, 55160.25131223159, 55412.756481628756, 56043.025290281534, 54936.774296166695, 54678.30443772865, 55353.904883092095, 54362.97121043423, 55315.730873230474, 54615.07873389534, 55225.06759980913, 53946.635915380946, 54598.77525051694, 55283.91919834579, 55553.920788929536, 55687.92746938126, 56023.54063941466, 55393.27183076189, 55236.20168601877, 55877.60458088118, 55526.4832193415, 55166.21600127246, 54733.57722284078, 54877.92269763003, 54672.73739462383, 54500.55670431048, 54873.54859233338, 54399.55463655161, 54844.52043900111, 54648.48099252426, 55615.95355495467, 55961.11022745348, 54889.05678383967, 55530.459678702086, 54927.628439637345, 55693.49451248608, 55534.83378399873, 55227.85112136154, 55029.82344520439, 55944.40909813902, 56192.540162239544, 54654.445681565136, 55357.88134245268, 54874.74153014156, 54557.0224272308, 55656.11579449658, 55499.44329568952, 55022.66581835534, 55840.62350882774, 56282.01049785271, 55000.39764593606, 55657.706378240815, 55153.4913313186, 56065.293462700814, 55052.886909495784, 55782.964848099255, 55230.63464291395, 54924.44727214888, 55771.43311595356, 55300.620327660254, 55751.15317321457, 56539.68506441864, 55315.730873230474, 55248.92635597264, 54840.94162557659, 56821.616033084145, 55901.860982980754, 55904.24685859711, 55624.70176554796, 56186.57547319867, 55155.08191506283, 55379.35422299984, 55297.43916017178, 55472.801017973594, 55068.39510100207, 55351.916653411805, 55307.38030857324, 55154.28662319071, 55373.389533958965, 56101.876888818195, 55736.04262764435, 54162.16001272467, 56048.1946874503, 54873.94623826945, 56866.1523779227, 56114.999204708125, 54945.52250675998, 54716.47844759026, 56457.37235565452, 55478.76570701448, 54945.92015269604, 55754.7319866391, 56033.87943375219, 55011.13408620964, 55184.50771433116, 55902.25862891681, 54636.94926037856, 55848.17878161285, 54408.70049308096, 56813.265468426915, 55477.97041514236, 54786.06648640051, 55125.656115794496, 54816.68522347702, 56394.14665182122, 54939.557817719106, 55128.83728328296, 55609.98886591379, 55738.82614919676, 54342.69126769524, 54952.28248767298, 55164.62541752823, 54967.790679179256, 55814.37887704788, 56148.7991092731, 56438.285350723716, 54364.95944011452, 55269.20629871163, 56020.3594719262, 55471.21043422936, 55941.62557658661, 54839.35104183235, 55181.72419277875, 55836.64704946715, 55907.428026085574, 55010.33879433752, 56208.84364561794, 55729.680292667406, 54262.36678861142, 55094.24208684587, 55272.387466200096, 55293.86034674726, 54986.08239223795, 55775.8072212502, 55025.05169397169, 55602.43359312868, 55088.277397804995, 55707.41212024813, 55389.69301733736, 54527.59662796246, 55235.40639414665, 56277.23874662001, 55422.69763003022, 55733.65675202799, 56173.85080324479, 55224.66995387307, 55292.26976300302, 55862.0963893749, 55285.11213615397, 55653.33227294417, 54479.48146969938, 55324.47908382376, 54448.46508668681, 54861.61921425163, 55362.65309368538, 55181.32654684269, 55936.85382535391, 55174.96421186576, 55438.60346747256, 55349.92842373151, 55403.212979163356, 55293.86034674726, 55967.074916494355, 55899.872753300464, 55349.53077779545, 55202.79942738985, 55875.21870526483, 54987.67297598218, 54653.650389693015, 55371.00365834261, 54151.02592651503, 56218.784794019404, 55358.27898838874, 55508.986798154925, 55710.5932877366, 55426.27644345475, 55146.33370446954, 54753.85716557977, 55304.9944329569, 55849.76936535709, 55624.70176554796, 55321.69556227135, 54483.06028312391, 55189.67711149992, 55498.6480038174, 54968.18832511532, 55018.68935899475, 56345.23620168602, 55558.29489422618, 55452.91872117067, 54971.369492603786, 55216.319389215845, 54927.23079370129, 56514.235724510894, 55896.29393987593, 54957.05423890568, 55618.73707650708, 56354.382058215364, 56005.24892635597, 54601.16112613329, 55497.852711945285, 56082.78988388739, 55280.34038492126, 55262.44631779863, 54882.694448862734, 55240.575791315416, 54518.053125497056, 55390.09066327342, 55947.98791156354, 54987.67297598218, 55483.935104183234, 55517.337362812155, 55446.55638619373, 55720.13679020201, 54928.423731509465, 54285.430252902814, 55751.55081915063, 55777.00015905838, 53975.26642277716, 55689.518053125495, 54758.231270876415, 55927.3103228885, 55144.7431207253, 54279.06791792588, 54056.3861937331, 54908.14378877048, 54701.7655479561, 55069.9856847463, 55122.07730236997, 55155.47956099889, 55732.86146015588, 55126.84905360267, 54729.20311754414, 55597.66184189598, 55702.640369015426, 55914.983298870684, 55761.88961348815, 55436.21759185621, 55690.71099093367, 55569.03133449976, 55219.50055670431, 56036.26530936854, 56359.55145538413, 54661.60330841419, 56311.43629712104, 55430.65054875139, 55205.58294894226, 55562.66899952282, 56119.37331000477, 55147.92428821378, 55369.01542866232, 56327.34213456338, 54951.48719580086, 55093.049149037695, 55306.187370765074, 56169.87434388421, 56443.057101956416, 55572.610147924286, 54802.76761571497, 55862.89168124702, 55859.31286782249, 54883.48974073485, 55577.77954509305, 55889.931604899, 55699.856847463016, 54383.64879910927, 53939.080642595836, 54983.29887068554, 55666.056942898045, 55417.1305869254, 55319.309686655004, 55454.11165897884, 54148.64005089868, 54991.25178940671, 56043.025290281534, 55164.227771592174, 55897.089231748054, 55141.95959917289, 55203.59471926197, 55911.40448544616, 55862.494035310956, 54726.41959599173, 55537.219659615075, 55244.552250675995, 54798.79115635438, 54985.28710036584, 56466.91585811993, 54321.616033084145, 56392.556068076985, 55102.195005567046, 55423.890567838396, 54803.960553523146, 55236.996977890885, 55506.60092253857, 55616.748846826784, 55212.34292985526, 55821.53650389693, 55473.19866390966, 54866.788611420394, 56006.04421822809, 55081.915062828055, 55685.93923970097, 55999.681883251156, 54287.02083664705, 55145.14076666137, 56123.74741530142, 56210.83187529824, 55331.636710672814, 55015.11054557023, 55017.89406712264, 54655.24097343725, 55059.249244472725, 55526.08557340544, 55716.95562271353, 54649.27628439637, 55640.20995705424, 55151.90074757436, 55823.52473357722, 54158.58119930014, 55214.728805471605, 55551.53491331319, 54526.00604421823, 55878.00222681724, 55199.618259901385, 55474.78924765389, 55663.67106728169, 55975.425481151586, 54928.02608557341, 55745.98377604581, 54441.30745983776, 55643.788770478764, 55355.09782090027, 54679.89502147288, 55211.9452839192, 54875.13917607762, 55988.94544297757, 54116.828376014, 55048.115158263085, 55709.40034992842, 54158.58119930014, 54627.0081119771, 55222.68172419278, 55835.454111658975, 55101.399713694926, 55652.53698107205, 55068.792746938125, 54510.497852711946, 55250.914585652936, 54936.37665023063, 55346.74725624304, 56206.06012406553, 56334.89740734849, 55163.43247972006, 55161.84189597582, 54576.50707809766, 54317.63957372356, 54907.74614283442, 55684.746301892796, 56318.19627803404, 55087.08445999682, 54586.05058056307, 54921.66375059647, 56232.3047558454, 54375.29823445204, 54704.94671544457, 55984.17369174487, 55065.61157944966, 55450.53284555432, 54395.578177191026, 55765.86607284874, 55258.07221250199, 54729.6007634802, 54772.54652457452, 55658.89931604899, 55930.889136313024, 55065.61157944966, 54243.27978368061, 55407.984730396056, 54971.76713853984, 55665.65929696198, 55165.42070940035, 54204.708127882936, 54672.73739462383, 56419.595991728966, 55504.21504692222, 54552.25067599809, 55796.48480992524, 56076.82519484651, 56681.644663591534, 56244.23413392715, 54643.311595355495, 56157.54731986639, 54847.70160648958, 54859.63098457134, 54571.73532686496, 55202.79942738985, 54175.2823286146, 54828.216955622716, 55724.51089549865, 55083.10800063623, 55113.32909177668, 55285.11213615397, 57092.810561476064, 54527.99427389852, 56173.45315730873, 55251.70987752505, 56106.25099411484, 55053.28455543184, 55038.17400986162, 54430.96866550024, 54743.12072530619, 56346.826785430254, 55370.20836647049, 54571.73532686496, 55593.68538253539, 54744.71130905042, 55574.59837760458, 54526.00604421823, 56157.14967393033, 55050.103387943374, 54351.04183235247, 54346.66772705583, 54819.46874502942, 55479.95864482265, 54784.475902656275, 55477.17512327024, 55751.55081915063, 53833.704469540324, 54911.32495625895, 54750.27835215524, 54816.68522347702, 54801.57467790679, 55291.4744711309, 55110.54557022427, 54541.91188166057, 56172.65786543662, 54756.640687132174, 54754.652457451884, 56345.63384762208, 53763.71878479402, 55210.752346111025, 55579.76777477334, 54574.121202481314, 56212.42245904247, 55523.69969778909, 55386.90949578495, 55831.87529823445, 55629.0758708446, 54855.65452521075, 55728.08970892317, 54184.428185143945, 54832.59106091936, 54515.269603944645, 55321.69556227135, 55703.03801495149, 55257.67456656593, 55808.81183394306, 54339.510100206775, 55381.740098616196, 56141.24383648799, 55219.89820264037, 55206.77588675044, 55876.01399713695, 54459.996818832515, 54768.570065213935, 54877.127405757914, 55418.323524733576, 56117.782726260535, 55100.20677588675, 55202.79942738985, 55393.66947669795, 55809.209479879115, 55503.02210911405, 55547.95609988866, 54455.62271353587, 54817.48051534913, 54424.20868458724, 55458.48576427549, 55487.91156354382, 54832.988706855416, 54761.41243836488, 55855.3364084619, 55095.832670590105, 55375.377763639255, 55603.626530936854, 56165.50023858756, 53899.31604898998, 55768.251948465084, 55170.590106569114, 55154.68426912677, 55747.574359790044, 55777.397804994434, 55526.08557340544, 55977.413710831876, 54956.65659296962, 56095.91219977732, 54782.88531891204, 56779.06791792588, 55755.52727851121, 54984.09416255766, 54982.50357881343, 56618.81660569429, 55974.630189279465, 55422.29998409416, 54191.98345792906, 56208.445999681884, 55512.963257515505, 55619.13472244314, 54246.46095116908, 54969.77890885955, 55792.508350564654, 54613.488150151104, 55258.8675043741, 54742.72307937013, 55553.12549705742, 54017.814537935425, 55754.7319866391, 55106.171464927625, 54971.76713853984, 55339.58962939399, 55005.169397168764, 55050.898679815495, 55644.18641641482, 55134.40432638778, 54613.88579608716, 56254.97057420073, 55521.313822172735, 54737.55368220137, 55314.5379354223, 55669.23811038651, 56151.58263082551, 56466.12056624781, 54671.94210275171, 55246.93812629235, 55258.8675043741, 54825.83108000636, 55959.51964370924, 55318.514394782884, 55348.73548592333, 56891.20407189438, 54758.231270876415, 55439.39875934468, 56033.87943375219, 55301.41561953237, 54938.762525846985, 55943.6138062669, 55824.32002544934, 55161.84189597582, 54618.65754731987, 54106.09193574042, 56477.652298393514, 55353.50723715604, 55108.15969460792, 55001.59058374423, 56190.94957849531, 55810.40241768729, 55461.66693176396, 55352.71194528392, 54778.5112136154, 55719.341498329886, 55933.672657865434, 54918.88022904406, 55677.58867504374, 55140.36901542866, 54848.4968983617, 54641.72101161126, 55484.730396055355, 55304.9944329569, 55653.72991888023, 55553.920788929536, 55502.624463177985, 55208.76411643073, 55862.0963893749, 54947.90838237633, 56174.64609511691, 56161.92142516303, 55578.177191029106, 54951.0895498648, 55798.870685541595, 56077.22284078257, 54612.29521234293, 55358.27898838874, 55225.46524574519, 54859.23333863528, 55226.26053761731, 55088.67504374105, 54849.29219023381, 55868.8563702879, 55019.08700493081, 55588.51598536663, 55179.73596309846, 55773.02369969779, 55967.47256243041, 55821.13885796087, 55113.72673771274, 55132.41609670749, 55918.16446635915, 54482.26499125179, 55669.23811038651, 55867.26578654366, 54952.28248767298, 54454.82742166375, 56260.93526324161, 54668.363289327186, 55402.417687291236, 54712.10434229362, 55226.26053761731, 54308.49371719421, 55025.846985843804, 56078.415778590745, 54943.534277079685, 55145.93605853348, 54536.742484491806, 55701.84507714331, 55083.10800063623, 55786.54366152378, 54990.05885159854, 55462.06457770002, 54493.796723397485, 54379.27469381263, 55400.827103547, 56110.62509941148, 56519.0074757436, 54848.4968983617, 55666.056942898045, 55613.17003340226, 54808.732304755846, 55697.47097184667, 56804.119611897564, 54963.814219818676, 54074.28026085573, 54924.44727214888, 55148.32193414983, 56443.45474789248, 54621.043422936214, 54694.60792110705, 54641.323365675205, 55525.29028153332, 54885.08032447908, 55719.341498329886, 55501.82917130587, 55051.29632575155, 55229.83935104183, 55303.403849212664, 55281.13567679338, 55268.808652775566, 55531.2549705742, 55278.35215524097, 55370.20836647049, 54960.6330523302, 54741.92778749801, 55672.41927787498, 55922.5385716558, 54784.87354859233, 55736.83791951646, 54860.0286305074, 55893.51041832352, 55236.59933195483, 55867.26578654366, 55067.20216319389, 55526.4832193415, 55714.569747097186, 55146.33370446954, 55501.82917130587, 55131.62080483537, 55349.133131859395, 55164.62541752823, 54740.734849689834, 54551.85303006203, 56076.42754891045, 55677.191029107686, 55470.41514235725, 55760.29902974392, 56331.71623986003, 56088.35692699221, 55205.98059487832, 55557.499602354066, 55722.92031175442, 56030.69826626372, 55800.46126928583, 56511.84984889455, 55286.30507396215, 54715.68315571815, 54292.98552568793, 55691.10863686973, 54200.73166852235, 55602.83123906473, 54816.68522347702, 54963.41657388261, 56720.21631938922, 55227.85112136154, 55029.82344520439, 55161.44425003976, 55521.7114681088, 54764.991251789404, 55834.261173850806, 55516.542070940035, 54969.381262923496, 56359.153809448064, 54640.13042786703, 55158.66072848735, 55869.65166216001, 55352.71194528392, 55046.92222045491, 54734.77016064896, 56635.51773500875, 55208.76411643073, 55384.92126610466, 56061.31700334023, 56755.20916176237, 55673.2145697471, 55981.39017019246, 55808.81183394306, 54471.13090504215, 55349.92842373151, 55247.73341816447, 55855.3364084619, 54237.315094639736, 54948.30602831239, 55809.209479879115, 55898.28216955623, 56435.501829171306, 55495.069190392875, 55415.540003181166, 54928.423731509465, 55730.07793860347, 54615.4763798314, 55441.38698902497, 56684.428185143945, 54030.141561953234, 55067.20216319389, 55089.86798154923, 55775.40957531414, 54676.71385398441, 56082.78988388739, 55435.42229998409, 55862.89168124702, 55955.145538412595, 55285.90742802608, 55815.571814856055, 54916.09670749165, 55655.32050262446, 54681.88325115317, 55648.16287577541, 54462.780340384925, 55113.32909177668, 55392.87418482583, 56628.75775409575, 55102.195005567046, 54240.89390806426, 55577.38189915699, 54966.99538730714, 55034.197550501034, 54825.03578813424, 55370.606012406555, 54547.47892476539, 56655.400031811674, 55066.009225385715, 56270.081119770955, 54988.86591379036, 55868.061078415776, 54017.019246063304, 54261.57149673931, 56002.0677588675, 54769.36535708605, 54546.28598695721, 55073.96214410689, 55203.99236519803, 55086.2891681247, 55081.11977095594, 55117.305551137266, 55517.337362812155, 55614.760617146494, 54776.125337999045, 55631.06410052489, 55420.70940034993, 56285.986957213296, 55050.898679815495, 55142.35724510896, 54570.54238905678, 55941.22793065055, 55806.02831239065, 55055.27278511214, 56105.05805630666, 55084.698584380465, 55432.63877843168, 54337.12422459042, 55334.420232225224, 55815.17416891999, 55325.67202163194, 54817.87816128519, 55351.121361539685, 54883.09209479879, 55081.915062828055, 55615.15826308255, 54950.69190392874, 55535.62907587084, 55649.75345951964, 55012.32702401782, 54980.91299506919, 55086.2891681247, 56030.69826626372, 54317.2419277875, 55696.27803403849, 56284.39637346906, 55080.722125019885, 55124.46317798632, 55177.74773341817, 55294.65563861937, 55278.74980117703, 54439.716876093524, 55137.58549387625, 54994.830602831236, 54197.15285509782, 54734.77016064896, 55306.98266263719, 56259.742325433435, 55686.33688563703, 55561.07841577859, 54502.147288054715, 55520.120884364565, 55204.390011134084, 55090.265627485285, 55550.73962144107, 55971.449021791, 54901.78145379354, 54983.29887068554, 54681.485605217116, 55340.38492126611, 56055.35231429935, 56003.658342611736, 54468.34738348974, 55939.63734690631, 55137.18784794019, 55139.57372355655, 55604.02417687291, 55895.10100206776, 55122.47494830603, 55454.11165897884, 55085.09623031653, 56708.28694130746, 55809.60712581517, 54993.63766502307, 54858.83569269922, 54806.744075075556, 54333.14776522984, 56039.84412279307, 54450.05567043105, 54729.20311754414, 55172.18069031335, 54708.12788293303, 54823.04755845395, 55421.90233815811, 55744.39319230158, 54865.19802767616, 55150.70780976619, 56074.0416732941, 55601.638301256564, 55188.08652775569, 55612.37474153014, 55768.64959440115, 55540.798473039606, 55491.09273103229, 54652.8550978209, 54159.77413710832, 55743.99554636551, 55437.41052966439, 55773.818991569904, 54815.09463973278, 55173.373628121524, 55379.35422299984, 55490.297439160175, 55786.54366152378, 55372.9918880229, 55545.17257833625, 54436.138062669, 55722.52266581835, 56012.008907268966, 55703.8333068236, 55520.51853030062, 55722.92031175442, 56416.4148242405, 55808.414188007, 54985.68474630189, 55611.57944965803, 56270.081119770955, 54539.92365198028, 55150.70780976619, 55761.09432161603, 54408.70049308096, 55769.44488627326, 55131.62080483537, 55559.88547797041, 55804.83537458247, 55972.641959599176, 55790.520120884365, 55565.054875139176, 54709.32082074121, 55408.38237633211, 55798.870685541595, 54699.379672339746, 54451.646254175284, 55925.71973914427, 55000.79529187212, 55289.88388738667, 54938.36487991093, 55334.420232225224, 55493.080960712585, 55006.759980913, 56260.93526324161, 55046.12692858279, 55224.27230793701, 55862.89168124702, 54712.10434229362, 55111.738508032446, 56421.584221409255, 55579.76777477334, 54223.79513281374, 55291.4744711309, 55524.892635597265, 54518.053125497056, 56412.43836487991, 55959.9172896453, 56707.09400349928, 55504.61269285828, 54757.435979004294, 55257.67456656593, 55508.986798154925, 56614.84014633371, 55151.5031016383, 55480.75393669477, 54884.28503260697, 55366.23190710991, 55699.0615555909, 55342.3731509464, 55657.30873230476, 55153.09368538253, 55463.257515508194, 56558.77206934945, 54962.22363607444, 54903.76968347384, 55762.28725942421, 54908.54143470654, 55924.92444727215, 56175.83903292508, 54157.78590742803, 55120.884364561796, 54865.19802767616, 56029.10768251948, 54541.91188166057, 55226.658183553365, 55149.51487195801, 55235.40639414665, 54814.299347860666, 56112.215683155715, 55101.00206775887, 54848.89454429776, 55287.89565770638, 55810.004771751235, 55508.58915221886, 55407.189438523936, 55222.28407825672, 55514.15619532368, 55925.71973914427, 55008.74821059329, 55540.003181167485, 55139.17607762049, 55342.3731509464, 56259.742325433435, 55979.401940512165, 54852.07571178622, 55034.197550501034, 54768.570065213935, 54850.48512804199, 56560.36265309369, 55031.414028948624, 54928.423731509465, 55673.2145697471, 55067.59980912995, 55098.21854620646, 54814.299347860666, 55256.08398282169, 55070.78097661842, 55299.42738985208, 55069.19039287418, 55159.05837442341, 54937.17194210275, 55161.44425003976, 54576.50707809766, 55304.59678702083, 55182.51948465087, 55328.853189120404, 55151.5031016383, 55064.81628757754, 54696.596150787336, 55120.48671862573, 54850.882773978046, 56337.6809289009, 56052.966438683, 54498.56847463019, 56324.95625894704, 54065.9296961985, 55046.92222045491, 54873.94623826945, 55496.26212820105, 55450.93049149038, 54703.75377763639, 55458.48576427549, 55166.21600127246, 56477.25465245745, 55431.04819468745, 54584.459996818834, 55392.47653888977, 55339.19198345793, 55215.524097343725, 54916.09670749165, 54780.897089231745, 55486.718625735644, 54329.171305869255, 55136.79020200414, 55561.87370765071, 55047.319866390964, 55188.484173691744, 56406.87132177509, 55897.88452362017, 55639.81231111818, 55180.928900906634, 55745.18848417369, 56471.68760935263, 56205.662478129474, 54482.26499125179, 55063.62334976937, 55365.83426117385, 54567.36122156832, 56826.7854302529, 55128.83728328296, 55303.0062032766, 55627.48528710037, 55007.952918721174, 54994.03531095912, 55830.28471449022, 55456.89518053125, 55105.37617305551, 54796.40528073803, 55143.94782885319, 56157.14967393033, 55032.209320820744, 54684.66677270558, 55917.766820423094, 54750.27835215524, 55032.209320820744, 54511.69079052012, 56093.92397009703, 56052.17114681088, 56239.86002863051, 54798.393510418326, 55297.04151423572, 56348.01972323843, 55803.642436774295, 55541.99141084778, 55207.57117862255, 55639.017019246065, 54962.6212820105, 54230.157467790676, 55652.139335135995, 55431.84348655957, 55896.29393987593, 55834.261173850806, 55242.564020995706, 55742.00731668522, 54338.3171623986, 54878.32034356609, 55921.74327978368, 54787.259424208685, 55334.420232225224, 54755.05010338794, 55709.40034992842, 56169.87434388421, 56226.73771274058, 55805.63066645459, 56171.8625735645, 55165.81835533641, 55546.76316208048, 54668.363289327186, 55633.05233020519, 55654.52521075235, 55167.40893908064, 56623.98600286305, 54368.538253539045, 54959.04246858597, 55177.350087482104, 54687.84794019405, 55462.462223636074, 56072.053443613804, 55040.16223954191, 55803.642436774295, 54929.61666931764, 54632.57515508192, 55471.608080165424, 55128.83728328296, 56020.3594719262, 54697.39144265946, 55310.16383012565, 56122.55447749324, 56013.99713694926, 54262.76443454748, 55841.021154763795, 55632.25703833307, 55289.08859551456, 56389.37490058852, 55297.04151423572, 55427.46938126293, 55902.25862891681, 55437.01288372833, 55586.13010975028, 55626.29234929219, 55711.786225544776, 55057.26101479243, 55485.12804199141, 55364.64132336568, 54767.37712740576, 55242.96166693176, 54998.40941625577, 55733.25910609194, 55499.44329568952, 55143.55018291713, 54644.90217909973, 55443.77286464132, 55256.481628757756, 55208.36647049467, 55989.74073484969, 55072.76920629871, 55386.90949578495, 55799.66597741371, 55327.660251312234, 54646.095116907905, 54678.30443772865, 55005.56704310482, 55211.9452839192, 54708.5255288691, 55916.17623667886, 54857.64275489104, 55919.75505010339, 56620.00954350246, 55122.07730236997, 55188.484173691744, 55294.65563861937, 56418.40305392079, 56145.22029584858, 54755.447749324005, 53899.71369492604, 56256.958803881025, 54951.884841736915, 55694.2898043582, 54918.482583108, 55107.762048671866, 56058.53348178782, 55494.67154445682, 55390.09066327342, 55166.21600127246, 55478.368061078414, 54944.329568951805, 55307.38030857324, 55654.127564816285, 55071.576268490535, 54248.44918084937, 54353.03006203277, 55234.213456338475, 55285.11213615397, 56064.498170828694, 55151.10545570224, 54696.596150787336, 54825.83108000636, 54868.37919516463, 55023.46111022745, 55481.54922856688, 55388.500079529185, 55325.27437569588, 55567.838396691586, 55903.45156672499, 55320.10497852712, 54937.17194210275, 55331.636710672814, 55061.237474153015, 55291.07682519485, 56037.45824717671, 55183.712422459044, 55163.034833784, 55964.689040878, 55503.02210911405, 55245.347542548116, 54871.560362653094, 56123.74741530142, 54650.866868140605, 55557.89724829012, 54785.66884046445, 54533.16367106728, 55293.4627008112, 55422.69763003022, 54796.40528073803, 55144.7431207253, 54912.91554000318, 55304.9944329569, 55840.62350882774, 54092.17432797837, 55524.49498966121, 54577.30236996978, 56044.21822808971, 55726.49912517894, 55894.7033561317, 55249.72164784476, 56302.2904405917, 56573.48496898362, 55382.53539048831, 54747.097184666774, 56043.42293621759, 55302.60855734054, 54830.205185303006, 55689.12040718944, 55631.85939239701, 55573.40543979641, 55768.251948465084, 55574.20073166852, 56075.632257038335, 56180.61078415778, 55354.30252902815, 56120.566247812945, 54350.644186416415, 54681.88325115317, 56107.04628598696, 55119.69142675362, 55574.59837760458, 55411.56354382058, 56629.55304596787, 54905.36026721807, 55410.768251948466, 55148.32193414983, 55367.42484491808, 54599.172896453, 56270.876411643076, 56705.10577381899, 55194.051216796564, 55042.94576109432, 56421.584221409255, 55450.53284555432, 56765.94560203595, 55021.47288054716, 55328.45554318435, 54599.96818832512, 55450.13519961826, 54776.5229839351, 55088.277397804995, 55770.24017814538, 54659.61507873389, 55165.42070940035, 55589.31127723875, 55503.81740098616, 55871.63989184031, 54916.494353427704, 56066.88404644505, 54961.42834420232, 56586.20963893749, 55035.78813424527, 55846.19055193256, 56013.5994910132, 55533.243200254496, 55464.45045331636, 55741.60967074917, 54920.868458724355, 55155.08191506283, 55858.517575950376, 56227.930650548755, 55491.490376968344, 55798.47303960554, 56039.84412279307, 55822.72944170511, 55794.098934308895, 55716.16033084142, 55550.73962144107, 56109.03451566725, 55901.06569110863, 55587.32304755846, 56029.10768251948, 55838.237633211385, 56147.20852552887, 56838.3171623986, 55975.425481151586, 54830.60283123906, 55693.49451248608, 55264.832193414986, 56448.22649912518, 56080.404008271034, 55896.29393987593, 54879.115635438204, 55547.16080801654, 55761.09432161603, 54831.39812311118, 55495.46683632893, 55423.49292190234, 55048.51280419914, 55034.59519643709, 55765.468426912674, 56213.61539685065, 55710.19564180054, 55244.15460473994, 55473.99395578177, 54859.63098457134, 54879.115635438204, 54042.070940034995, 56064.10052489264, 55310.16383012565, 55058.85159853666, 54968.585971051376, 54434.945124860824, 55297.43916017178, 56158.34261173851, 55451.7257833625, 54893.43088913631, 55209.55940830285, 55122.872594242086, 54022.18864323207, 56501.113408620964, 54500.159058374426, 56408.06425958327, 56018.37124224591, 55241.37108318753, 55699.45920152696, 55198.822968029264, 56081.199300143155, 54582.07412120248, 55701.84507714331, 55466.041037060604, 54255.60680769842, 56111.4203912836, 56132.89327183076, 55585.33481787816, 55372.594242086845, 55590.10656911087, 56069.66756799746, 54777.71592174328, 56091.93574041673, 54808.732304755846, 56433.513599491016, 55963.89374900588, 55607.205344361384, 53820.18450771433, 55524.892635597265, 55537.61730555114, 56004.0559885478, 55808.81183394306, 53962.14410688723, 54900.98616192143, 56126.928582789886, 55143.55018291713, 56111.4203912836, 54616.66931763957, 55400.429457610946, 55246.14283442023, 55347.1449021791, 55518.13265468427, 55713.37680928901, 56071.25815174169, 55476.77747733418, 55554.716080801656, 55108.15969460792, 56677.668204230955, 54601.55877206935, 55928.105614760614, 56284.39637346906, 55329.648480992524, 55522.90440591697, 55382.933036424365, 56105.85334817878, 55069.9856847463, 55501.82917130587, 56010.81596946079, 56871.321775091455, 54779.704151423575, 56475.66406871322, 55350.32606966757, 54238.90567838397, 56143.62971210434, 56076.02990297439, 54176.07762048672, 55631.461746460955, 56231.50946397328, 56377.44552250676, 55472.801017973594, 55058.05630666455, 55453.71401304279, 55799.26833147765, 54358.59710513759, 55799.26833147765, 55718.54620645777, 56600.127246699536, 54731.58899316049, 55683.15571814856, 55271.19452839192, 55442.18228089709, 55763.87784316844, 54995.62589470336, 55757.51550819151, 53990.774614283444, 55373.389533958965, 55179.73596309846, 55753.93669476698, 55711.786225544776, 54383.251153173216, 54436.53570860506, 55385.716557976775, 55035.39048830921, 56267.6952441546, 55633.449976141244, 54564.57770001591, 54343.088913631305, 55602.03594719262, 54747.097184666774, 55617.544138698904, 55446.55638619373, 55779.78368061078, 55617.94178463496, 55832.67059010657, 56120.96389374901, 55314.5379354223, 55820.74121202481, 55058.85159853666, 54056.78383966916, 55165.81835533641, 54608.716398918405, 56379.03610625099, 54623.826944488625, 55321.297916335294, 55155.08191506283, 54668.76093526324, 56420.39128360108, 55697.47097184667, 55974.23254334341, 55212.34292985526, 55839.032925083506, 54643.70924129155, 55070.78097661842, 54768.17241927788, 55654.127564816285, 55760.696675679974, 55595.67361221568, 55269.603944647686, 55643.788770478764, 55365.038969301735, 55195.24415460474, 55914.58565293463, 55771.035470017494, 55526.880865277555, 55668.840464450455, 55185.30300620328, 55079.926833147765, 55594.08302847145, 55897.089231748054, 54686.65500238587, 55592.09479879116, 56435.501829171306, 54627.80340384921, 55303.0062032766, 54712.89963416574, 54372.51471289963, 56019.16653411802, 55073.16685223477, 56066.08875457293, 55482.344520439, 55206.77588675044, 54583.664704946714, 55272.78511213615, 54837.36281215206, 54588.03881024336, 55093.44679497375, 56144.0273580404, 55043.74105296644, 55143.55018291713, 55061.63512008907, 55845.7929059965, 54896.21441068872, 55341.18021313822, 56484.01463337045, 54734.3725147129, 55563.46429139494, 55258.8675043741, 55756.72021631939, 55301.01797359631, 56232.702401781455, 55837.044695403216, 56319.78686177827, 54701.7655479561, 54857.24510895499, 55943.6138062669, 55081.517416892, 55448.14696993797, 55013.51996182599, 55495.864482264995, 55353.904883092095, 55310.56147606172, 54953.47542548115, 55934.86559567361, 55232.62287259424, 55252.902815333226, 56296.325751550816, 55599.65007157627, 55165.023063464294, 56165.10259265151, 54852.47335772229, 54608.716398918405, 55399.23651980277, 55718.14856052171, 54620.2481310641, 55870.04930809607, 55613.56767933832, 53954.191188166056, 54357.40416732941, 55870.04930809607, 54479.879115635435, 55122.872594242086, 55329.648480992524, 55269.20629871163, 55159.456020359474, 55041.35517735009, 55373.78717989502, 55142.75489104501, 55421.107046285986, 55235.40639414665, 54720.45490695085, 55761.491967552094, 54485.446158740255, 55031.81167488468, 55165.81835533641, 54921.26610466041, 56010.81596946079, 55513.36090345157, 55508.58915221886, 55064.020995705425, 55516.93971687609, 55194.44886273262, 54607.52346111023, 56051.77350087482, 54485.446158740255, 54893.033243200254, 55935.26324160967, 56040.24176872912, 54413.47224431366, 54172.101161126135, 56308.25512963258, 54734.3725147129, 54838.55574996024, 54321.21838714808, 56254.175282328615, 55700.25449339908, 55695.085096230316, 56198.107205344364, 55595.27596627962, 54661.20566247813, 55837.044695403216, 55891.12454270718, 54844.91808493717, 55085.09623031653, 55467.233974868774, 55492.285668840464, 55990.13838078575, 55751.15317321457, 54701.36790202004, 55582.55129632575, 55295.84857642755, 55245.347542548116, 54467.94973755368, 55345.95196437092, 55215.524097343725, 55135.1996182599, 55482.344520439, 54808.33465881979, 54994.830602831236, 56054.55702242723, 56283.60108159695, 56021.55240973437, 54566.5659296962, 55227.45347542548, 56079.60871639892, 55971.449021791, 54944.329568951805, 54966.20009543502, 54928.82137744552, 54503.34022586289, 55830.682360426275, 53974.07348496898, 53591.93574041673, 55061.237474153015, 55837.044695403216, 55076.7456656593, 55619.532368379194, 55417.52823286146, 55295.45093049149, 55056.06807698425, 54862.01686018769, 54682.67854302529, 56664.14824240496, 55518.92794655639, 55187.68888181963, 55703.8333068236, 54382.455861301096, 55336.40846190552, 55430.65054875139, 54747.097184666774, 55266.025131223156, 55093.844440909816, 56117.38508032448, 54599.570542389054, 56270.876411643076, 55328.45554318435, 55141.16430730078, 55700.25449339908, 55531.2549705742, 55887.14808334659, 55566.64545888341, 55069.588038810245, 54992.84237315095, 55603.626530936854, 54587.6411643073, 56445.840623508826, 55217.512327024015, 55712.58151741689, 55308.57324638142, 55404.405916971526, 55462.462223636074, 55472.40337203754, 56162.3190710991, 55840.62350882774, 54835.772228407826, 55369.41307459838, 56690.39287418483, 56164.30730077939, 55068.39510100207, 55415.14235724511, 55300.22268172419, 56106.25099411484, 54825.83108000636, 54906.55320502625, 55963.89374900588, 54655.63861937331, 54582.47176713854, 54898.20264036902, 55375.77540957531, 55975.02783521552, 55303.0062032766, 56410.84778113568, 54739.93955781772, 54664.784475902656, 55019.08700493081, 54762.60537617306, 55085.89152218864, 55808.414188007, 55745.586130109754, 55766.263718784794, 55659.29696198505, 55169.39716876094, 55048.9104501352, 55059.249244472725, 56109.82980753937, 55446.55638619373, 55161.84189597582, 55368.2201367902, 55953.952600604425, 56247.41530141562, 55577.38189915699, 55168.99952282487, 54935.58135835852, 54632.57515508192, 55517.337362812155, 57079.29059965007, 54920.47081278829, 55707.01447431207, 55656.911086368695, 55385.31891204072, 55176.95244154605, 55555.90901860983, 56094.71926196914, 55959.12199777318, 55715.76268490536, 55477.5727692063, 54450.850962303164, 54981.31064100525, 55346.349610306985, 54750.27835215524, 55905.83744234134, 55720.13679020201, 55865.277556863366, 55187.29123588357, 55705.02624463178, 55958.724351837125, 55090.66327342135, 55073.96214410689, 56958.406235088274, 55347.54254811516, 55519.325592492445, 54572.13297280102, 55089.86798154923, 55311.75441386989, 56464.92762843964, 55597.26419595992, 54735.963098457134, 56584.221409257196, 56041.037060601244, 55388.10243359313, 55443.77286464132, 54743.518371242244, 55603.626530936854, 55189.67711149992, 55858.517575950376, 55642.19818673453, 55471.21043422936, 55130.03022109114, 55518.13265468427, 54034.11802131382, 56479.6405280738, 56014.39478288532, 54547.47892476539, 55267.21806903133, 54432.55924924447, 55759.90138380786, 54629.79163352951, 56101.47924288214, 55054.875139176074, 55235.40639414665, 54431.3663114363, 55145.93605853348, 55577.38189915699, 55209.16176236679, 55384.12597423254, 54854.85923333863, 56076.82519484651, 55938.44440909814, 56524.17687291236, 55707.41212024813, 55003.18116748847, 55056.465722920315, 55278.35215524097, 54332.35247335772, 56366.311436297125, 55991.331318593926, 54323.20661682838, 55682.36042627644, 54787.259424208685, 55419.51646254175, 54885.08032447908, 56311.8339430571, 54316.048989979325, 55169.39716876094, 53920.78892953714, 55456.89518053125, 55228.646413233655, 55608.79592810562, 55235.40639414665, 55151.5031016383, 54774.137108318755, 55645.379354223, 54660.41037060601, 54953.87307141721, 55579.76777477334, 55392.47653888977, 55519.7232384285, 55617.544138698904, 55416.73294098934, 55554.31843486559, 54865.19802767616, 55500.636233497695, 55582.94894226181, 54454.82742166375, 55433.4340703038, 55395.65770637824, 54776.125337999045, 55911.40448544616, 55446.15874025768, 56294.337521870526, 54766.18418959758, 55875.21870526483, 55665.261651025925, 55206.77588675044, 54767.37712740576, 54246.06330523302, 55843.00938444409, 55550.34197550501, 55620.327660251314, 55851.35994910132, 56050.97820900271, 55147.92428821378, 55238.985207571175, 55962.30316526165, 55631.85939239701, 56140.050898679816, 55116.90790520121, 56152.37792269763, 55679.179258787975, 55619.532368379194, 54583.26705901066, 56462.54175282329, 55934.467949737555, 55036.58342611739, 55813.58358517576, 54775.72769206299, 54691.42675361858, 54856.44981708287, 54515.269603944645, 54135.51773500875, 54594.4011452203, 54751.07364402736, 55924.92444727215, 54658.81978686178, 55004.7717512327, 56231.907109909334, 54504.135517735005, 55654.922856688405, 56209.63893749006, 55806.425958326705, 55477.97041514236, 55346.349610306985, 55505.407984730395, 55686.734531573085, 54561.39653252744, 54784.07825672022, 55460.07634801972, 54861.221568315574, 54989.66120566248, 56163.90965484333, 55349.133131859395, 55204.390011134084, 55938.8420550342, 56806.903133449974, 55118.8961348815, 55628.28057897248, 55445.36344838556, 56299.109273103226, 55957.929059965005, 55366.62955304597, 55455.70224272308, 56013.20184507714, 56277.23874662001, 54514.07666613647, 55624.70176554796, 54780.49944329569, 55642.19818673453, 55668.045172578335, 55613.56767933832, 56088.754572928265, 55463.65516144425, 56524.574518848414, 55679.974550660096, 54734.77016064896, 55400.429457610946, 55706.61682837601, 55604.02417687291, 54151.02592651503, 54645.299825035785, 55347.94019405122, 55015.508191506284, 55375.77540957531, 55875.61635120089, 55485.12804199141, 56309.44806744075, 55965.48433275012, 55457.29282646731, 55394.862414506126, 54607.12581517417, 54985.28710036584, 55752.34611102274, 55438.2058215365, 56326.94448862733, 55023.46111022745, 55569.03133449976, 55708.60505805631, 55485.52568792747, 54524.415460473996, 55778.98838873867, 54503.34022586289, 55986.95721329728, 54580.48353745825, 55411.16589788452, 56860.58533481788, 54813.90170192461, 55302.60855734054, 54555.82948942262, 55814.776522983935, 55603.626530936854, 54396.7711149992, 56917.84634961031, 55041.35517735009, 55036.185780181324, 55622.315889931604, 55584.53952600605, 54613.88579608716, 55882.77397804995, 55554.716080801656, 54351.04183235247, 56252.98234452044, 55381.34245268013, 55177.350087482104, 54158.978845236205, 54709.32082074121, 55384.12597423254, 56169.87434388421, 55336.40846190552, 54865.99331954827, 54743.518371242244, 54785.66884046445, 54260.77620486719, 56484.4122793065, 55799.26833147765, 55110.14792428821, 54474.70971846668, 54960.235406394146, 55503.419755050105, 55528.86909495785, 55500.636233497695, 55435.02465404804, 54509.702560839825, 54438.92158422141, 54852.47335772229, 55949.18084937172, 56386.59137903611, 55388.89772546525, 55225.862891681245, 56072.45108954987, 55262.84396373469, 54650.07157626849, 56628.36010815969, 54450.45331636711, 54671.54445681565, 54846.5086686814, 55579.37012883728, 55614.760617146494, 56482.82169556227, 54605.53523142994, 54673.135040559886, 54725.22665818355, 55153.88897725465, 54821.05932877366, 55198.42532209321, 55997.2960076348, 54846.11102274535, 55743.2002544934, 55151.90074757436, 55176.55479560999, 56698.345792905995, 55917.766820423094, 56718.22808970892, 53945.840623508826, 55701.04978527119, 55856.13170033402, 55102.99029743916, 55089.47033561317, 55667.24988070622, 55806.02831239065, 55386.511849848896, 55663.273421345635, 55136.79020200414, 55879.19516462542, 53648.401463337046, 55229.441705105775, 55320.10497852712, 55928.900906632734, 54322.0136790202, 54821.45697470972, 54475.107364402735, 55334.420232225224, 56136.472085255285, 55496.65977413711, 54720.45490695085, 56343.64561794179, 55285.11213615397, 55959.9172896453, 55788.92953714013, 54390.40878002227, 55623.50882773978, 55276.36392556068, 56178.22490854144, 56070.065213933514, 54775.72769206299, 55618.73707650708, 55517.337362812155, 55633.05233020519, 55005.56704310482, 55075.55272785112, 55553.12549705742, 55039.764593605854, 55056.86336885637, 56685.62112295212, 55642.59583267059, 55973.834897407345, 55427.86702719898, 54756.24304119612, 55099.80912995069, 55397.645936058536, 56245.42707173533, 55619.532368379194, 55181.32654684269, 55299.02974391602, 55036.185780181324, 53893.74900588516, 55411.96118975664, 55685.54159376491, 55755.129632575154, 55460.07634801972, 55772.62605376173, 55636.233497693654, 55207.57117862255, 55357.88134245268, 55755.52727851121, 55277.159217432796, 54753.06187370765, 54554.63655161444, 55999.681883251156, 54808.33465881979, 54596.38937490059, 55337.203753777634, 55235.008748210596, 55564.65722920312, 55678.78161285192, 55437.01288372833, 55258.07221250199, 55714.569747097186, 55981.39017019246, 55440.59169715286, 55497.057420073164, 55382.13774455225, 53747.01765547956, 54986.48003817401, 54069.110863686976, 54491.41084778114, 54767.37712740576, 54104.50135199618, 54718.86432320662, 55683.951010020675, 55887.9433752187, 55536.42436774296, 55225.862891681245, 55054.07984730396, 55494.67154445682, 54597.97995864482, 54839.74868776841, 55077.54095753141, 55526.08557340544, 55067.20216319389, 55704.62859869572, 55120.089072689676, 55161.04660410371, 54511.293144584066, 55455.70224272308, 55018.68935899475, 54924.04962621282, 55853.34817878161, 55221.4887863846, 54855.2568792747, 56460.95116907905, 56129.31445840623, 54805.55113726738, 54206.696357563225, 56433.91124542707, 56131.30268808653, 55176.15714967393, 56274.05757913154, 54679.49737553682, 54496.18259901384, 55695.880388102436, 56209.241291554, 55993.71719421027, 55965.08668681406, 54733.57722284078, 55498.6480038174, 55979.79958644823, 55870.44695403213, 55578.97248290123, 55671.2263400668, 54698.58438046763, 56536.10625099412, 55655.718148560525, 55350.72371560363, 54963.41657388261, 55393.27183076189, 55191.66534118021, 55471.21043422936, 54444.88627326229, 55266.025131223156, 55761.88961348815, 55242.564020995706, 54552.648321934146, 55141.16430730078, 54851.28041991411, 54287.41848258311, 55760.29902974392, 54981.708286941306, 54985.28710036584, 54704.54906950851, 55688.32511531732, 55562.66899952282, 56311.03865118499, 55236.20168601877, 55450.13519961826, 54954.668363289325, 54065.9296961985, 55802.44949896612, 55487.1162716717, 55644.98170828694, 55399.634165738826, 54990.85414347066, 55269.603944647686, 54186.8140607603, 55798.47303960554, 56252.58469858438, 55644.584062350885, 56077.22284078257, 55061.63512008907, 55786.941307459834, 56454.191188166056, 56283.60108159695, 54689.83616987435, 56802.92667408939, 56015.19007475743, 54865.99331954827, 54974.55066009225, 55798.47303960554, 55656.51344043264, 55840.62350882774, 55302.21091140449, 55250.51693971688, 54895.816764752664, 55290.67917925879, 54869.17448703674, 54927.23079370129, 54920.47081278829, 56273.659933195486, 55519.325592492445, 54309.686655002384, 54817.082869413076, 55645.77700015906, 55534.83378399873, 55647.367583903295, 55188.484173691744, 54788.45236201686, 55060.04453634484, 55174.16891999364, 55304.59678702083, 55925.322093208204, 56079.21107046286, 54708.12788293303, 54591.61762366789, 54651.26451407667, 55452.52107523461, 55997.2960076348, 54801.97232384285, 54894.62382694449, 55588.51598536663, 55460.07634801972, 55159.85366629553, 55261.65102592651, 55246.54048035629, 55496.26212820105, 56112.61332909178, 54520.43900111341, 56212.42245904247, 56350.80324479084, 54483.457929059965, 55980.197232384286, 55465.64339112454, 55801.25656115795, 54950.69190392874, 55525.68792746938, 56328.93271830762, 54893.43088913631, 55303.0062032766, 55940.034992842375, 55247.335772228405, 55669.23811038651, 54591.21997773183, 55738.42850326069, 55129.63257515508, 55793.303642436775, 54890.6473675839, 54454.03212979163, 55295.45093049149, 54837.760458088116, 54087.40257674566, 55943.6138062669, 55569.03133449976, 55597.66184189598, 55267.21806903133, 54632.972801017975, 55952.362016860185, 54941.546047399395, 55211.54763798314, 55524.097343725145, 55763.87784316844, 54972.96007634802, 55392.87418482583, 55949.18084937172, 54100.127246699536, 56472.08525528869, 54913.7108318753, 54706.13965325274, 54587.6411643073, 55418.323524733576, 55164.227771592174, 55356.688404644505, 55243.75695880388, 55732.46381421982, 55679.974550660096, 54647.68570065214, 55131.62080483537, 55335.215524097344, 54758.62891681247, 54161.762366788615, 55676.79338317162, 56297.121043422936, 54475.107364402735, 54882.29680292668, 55122.872594242086, 54508.509623031656, 55481.946874502944, 54831.39812311118, 54996.02354063941, 54932.00254493399, 54614.283442023225, 56478.44759026563, 56267.297598218545, 54205.10577381899, 55376.57070144743, 55286.30507396215, 54794.41705105774, 55288.29330364244, 55455.30459678702, 54954.27071735327, 55144.7431207253, 55801.25656115795, 56124.94035310959, 55282.726260537616, 55569.03133449976, 55491.88802290441, 54320.42309527597, 54282.24908541435, 55310.16383012565, 55194.44886273262, 55554.716080801656, 54837.760458088116, 55546.76316208048, 55106.171464927625, 54598.377604580885, 56304.676316208046, 55081.517416892, 54533.16367106728, 55108.55734054398, 54866.788611420394, 55419.91410847781, 55398.83887386671, 56271.27405757913, 56345.63384762208, 54906.155559090184, 55998.886591379036, 55858.517575950376, 55009.14585652934, 55833.86352791474, 55726.49912517894, 55338.79433752187, 55209.55940830285, 54883.09209479879, 55122.07730236997, 56169.87434388421, 56064.89581676475, 55294.25799268331, 55204.78765707015, 55169.39716876094, 55021.075234611104, 56002.86305073962, 54072.29203117544, 56786.225544774934, 55086.68681406076, 55227.45347542548, 54769.76300302211, 55050.898679815495, 55127.644345474786, 54910.92731032289, 55329.25083505647, 56140.050898679816, 56633.52950532846, 55768.64959440115, 55248.131064100526, 57276.5229839351, 54906.950850962305, 54301.336090345154, 54526.80133609034, 55052.09161762367, 55838.237633211385, 53762.9234929219, 54975.74359790043, 54680.29266740894, 54560.60124065532, 54083.42611738508, 55681.962780340386, 55455.70224272308, 56072.053443613804, 55460.473993955784, 55313.34499761413, 54786.86177827263, 55844.20232225227, 55700.652139335136, 54362.57356449817, 56470.89231748052, 55712.18387148083, 56245.42707173533, 55189.67711149992, 56448.624145061236, 54965.007157626846, 55167.40893908064, 55088.67504374105, 56386.59137903611, 55572.21250198823, 56054.159376491174, 55289.88388738667, 54271.91029107683, 55957.13376809289, 54766.58183553364, 55533.243200254496, 55695.48274216637, 55846.19055193256, 54918.084937171945, 54690.2338158104, 55649.355813583585, 55521.313822172735, 56241.052966438685, 55574.20073166852, 54868.776841100684, 54246.46095116908, 53140.20995705424, 55157.07014474312, 54751.07364402736, 54835.772228407826, 55761.88961348815, 56101.08159694608, 55452.123429298554, 54477.49324001909, 56338.07857483697, 55005.96468904088, 55572.21250198823, 56072.45108954987, 54674.32797836806, 55430.65054875139, 56094.71926196914, 54729.20311754414, 55112.13615396851, 56438.285350723716, 55544.77493240019, 54817.082869413076, 55626.68999522825, 55765.07078097662, 55783.76013997137, 55563.861937331, 55484.33275011929, 55007.952918721174, 54884.682678543024, 54817.87816128519, 55725.30618737076, 55692.69922061396, 55458.88341021155, 56109.82980753937, 54431.76395737236, 55001.19293780818, 54834.57929059965, 55273.18275807221, 54998.01177031971, 55802.44949896612, 55391.283601081595, 55607.205344361384, 55295.45093049149, 54971.369492603786, 54662.3986002863, 55692.69922061396, 56111.81803721966, 55001.98822968029, 55536.026721806906, 54379.672339748686, 54486.63909654843, 54846.90631461747, 54570.94003499284, 55069.9856847463, 55484.730396055355, 54841.33927151265, 55267.615714967396, 55262.44631779863, 54436.933354541114, 55644.584062350885, 55697.07332591061, 56106.25099411484, 55223.874662000955, 55909.01860982981, 55595.67361221568, 56262.525846985845, 54862.81215205981, 56289.96341657388, 54643.311595355495, 55396.45299825036, 54648.48099252426, 55787.3389533959, 54693.41498329887, 54098.93430889137, 54709.718466677274, 54411.88166056943, 54479.879115635435, 55055.27278511214, 56255.76586607285, 55599.25242564021, 55134.00668045173, 56213.61539685065, 55951.96437092413, 55774.21663750597, 54597.97995864482, 56485.60521711468, 55854.14347065373, 55582.94894226181, 54903.372037537774, 55391.68124701765, 55004.7717512327, 55200.01590583744, 55519.7232384285, 55810.80006362335, 54980.51534913313, 55415.14235724511, 55276.36392556068, 55329.25083505647, 55105.77381899157, 54286.62319071099, 55172.578336249404, 55174.16891999364, 54819.866390965486, 56332.11388579609, 55019.48465086687, 54440.11452202959, 55266.820423095276, 56305.471608080166, 54799.18880229044, 55928.50326069668, 54734.77016064896]\n",
            "5000\n"
          ]
        }
      ]
    },
    {
      "cell_type": "code",
      "metadata": {
        "colab": {
          "base_uri": "https://localhost:8080/",
          "height": 369
        },
        "id": "-MjWAHeAIFM8",
        "outputId": "b358bdce-c529-4248-e039-27f68403f01d"
      },
      "source": [
        "#Histogram of the Test Statistic of Bootstrap samples\n",
        "plt.hist(sample_bootstrap_mean)"
      ],
      "execution_count": 26,
      "outputs": [
        {
          "output_type": "execute_result",
          "data": {
            "text/plain": [
              "(array([   2.,   38.,  211.,  634., 1189., 1331.,  971.,  471.,  135.,\n",
              "          18.]),\n",
              " array([53140.20995705, 53553.84125974, 53967.47256243, 54381.10386512,\n",
              "        54794.73516781, 55208.36647049, 55621.99777318, 56035.62907587,\n",
              "        56449.26037856, 56862.89168125, 57276.52298394]),\n",
              " <a list of 10 Patch objects>)"
            ]
          },
          "metadata": {},
          "execution_count": 26
        },
        {
          "output_type": "display_data",
          "data": {
            "image/png": "[encoded data removed]",
            "text/plain": [
              "<Figure size 432x288 with 1 Axes>"
            ]
          },
          "metadata": {
            "needs_background": "light"
          }
        }
      ]
    },
    {
      "cell_type": "code",
      "metadata": {
        "colab": {
          "base_uri": "https://localhost:8080/"
        },
        "id": "_OQYSSIzIaz-",
        "outputId": "701b678e-f886-4854-f5c9-5345cd5acabc"
      },
      "source": [
        "ttest,pval = ttest_1samp(df[\"Q9\"],np.mean(sample_bootstrap_mean)) \n",
        "ttest,pval"
      ],
      "execution_count": 27,
      "outputs": [
        {
          "output_type": "execute_result",
          "data": {
            "text/plain": [
              "(-0.01688487826587181, 0.9865287243592941)"
            ]
          },
          "metadata": {},
          "execution_count": 27
        }
      ]
    },
    {
      "cell_type": "code",
      "metadata": {
        "colab": {
          "base_uri": "https://localhost:8080/"
        },
        "id": "bvrp6UfeJ2tw",
        "outputId": "938085ef-8f6b-4337-d44a-e5b0450beafe"
      },
      "source": [
        "#Lower bound and Upper Bound Values\n",
        "import scipy.stats as st\n",
        "print(st.norm.interval(alpha=0.95, loc=np.mean(sample_bootstrap_mean), scale=st.sem(sample_bootstrap_mean)))\n",
        "print(st.norm.interval(alpha=0.05, loc=np.mean(sample_bootstrap_mean), scale=st.sem(sample_bootstrap_mean)))"
      ],
      "execution_count": 28,
      "outputs": [
        {
          "output_type": "stream",
          "name": "stdout",
          "text": [
            "(55327.31780586648, 55359.795284637745)\n",
            "(55343.03700559079, 55344.07608491343)\n"
          ]
        }
      ]
    },
    {
      "cell_type": "code",
      "metadata": {
        "colab": {
          "base_uri": "https://localhost:8080/"
        },
        "id": "iCLX544KKk0-",
        "outputId": "e9c6a073-2f42-436c-c925-5ded6ab1ffbd"
      },
      "source": [
        "# standard deviation of data\n",
        "Xstd = np.std(sample_bootstrap_mean) \n",
        "Xstd"
      ],
      "execution_count": 29,
      "outputs": [
        {
          "output_type": "execute_result",
          "data": {
            "text/plain": [
              "585.7951737059196"
            ]
          },
          "metadata": {},
          "execution_count": 29
        }
      ]
    },
    {
      "cell_type": "code",
      "metadata": {
        "colab": {
          "base_uri": "https://localhost:8080/"
        },
        "id": "8JUqZC8FKxpK",
        "outputId": "13fe704e-15e2-4ca6-bffb-1325308c34d9"
      },
      "source": [
        "#Calculation of Confidence Interval for 95%\n",
        "from scipy.stats import norm\n",
        "Z_95 = norm.ppf(0.975)\n",
        "Z_5 = norm.ppf(0.025)\n",
        "Z_95,Z_5"
      ],
      "execution_count": 30,
      "outputs": [
        {
          "output_type": "execute_result",
          "data": {
            "text/plain": [
              "(1.959963984540054, -1.9599639845400545)"
            ]
          },
          "metadata": {},
          "execution_count": 30
        }
      ]
    }
  ]
}